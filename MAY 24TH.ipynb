{
 "cells": [
  {
   "cell_type": "markdown",
   "id": "00ac74a1",
   "metadata": {},
   "source": [
    "#### FACTORS"
   ]
  },
  {
   "cell_type": "code",
   "execution_count": 1,
   "id": "6b4ba562",
   "metadata": {},
   "outputs": [
    {
     "name": "stdout",
     "output_type": "stream",
     "text": [
      "enter a number40\n",
      "1\n",
      "2\n",
      "4\n",
      "5\n",
      "8\n",
      "10\n",
      "20\n",
      "40\n"
     ]
    }
   ],
   "source": [
    "n=int(input(\"enter a number\"))\n",
    "for i in range(1,n+1):\n",
    "    if n%i==0:\n",
    "        print(i)"
   ]
  },
  {
   "cell_type": "code",
   "execution_count": 9,
   "id": "11efecae",
   "metadata": {},
   "outputs": [
    {
     "name": "stdout",
     "output_type": "stream",
     "text": [
      "enter a number4\n",
      "3\n"
     ]
    }
   ],
   "source": [
    "n=int(input(\"enter a number\")) #factors of 4 are (1,2,4) i.e 3\n",
    "count=0\n",
    "for i in range(1,n+1):\n",
    "    if n%i == 0:\n",
    "        count=count+1\n",
    "print(count)        \n",
    "        "
   ]
  },
  {
   "cell_type": "code",
   "execution_count": 1,
   "id": "f0fb9d73",
   "metadata": {},
   "outputs": [
    {
     "name": "stdout",
     "output_type": "stream",
     "text": [
      "enter a number8\n",
      "1 2 4 8 \n",
      "4\n"
     ]
    }
   ],
   "source": [
    "n=int(input(\"enter a number\"))\n",
    "c=0\n",
    "for i in range(1,n+1):\n",
    "    if n%i==0:\n",
    "        print(i,end=\" \")\n",
    "        c=c+1\n",
    "print()\n",
    "print(c)"
   ]
  },
  {
   "cell_type": "code",
   "execution_count": 3,
   "id": "e9728727",
   "metadata": {},
   "outputs": [
    {
     "name": "stdout",
     "output_type": "stream",
     "text": [
      "enter a number6\n",
      "5\n"
     ]
    }
   ],
   "source": [
    "n=int(input(\"enter a number\"))\n",
    "c=2\n",
    "for i in range(2,n):\n",
    "    if n%i==0:\n",
    "        c=c+1\n",
    "print(i)"
   ]
  },
  {
   "cell_type": "code",
   "execution_count": 4,
   "id": "5b464783",
   "metadata": {},
   "outputs": [
    {
     "name": "stdout",
     "output_type": "stream",
     "text": [
      "2.5\n",
      "2\n",
      "1\n"
     ]
    }
   ],
   "source": [
    "print(5/2)\n",
    "print(5//2)\n",
    "print(5%2)"
   ]
  },
  {
   "cell_type": "code",
   "execution_count": 10,
   "id": "fa4be775",
   "metadata": {},
   "outputs": [
    {
     "name": "stdout",
     "output_type": "stream",
     "text": [
      "11\n",
      "11 is prime\n"
     ]
    }
   ],
   "source": [
    "n=int(input())\n",
    "c=0\n",
    "for i in range(1,n+1):\n",
    "    if n%i==0:\n",
    "        c+=1\n",
    "if c==2:\n",
    "    print(n,\"is prime\")\n",
    "else:\n",
    "    print(n,\"is not a prime\")"
   ]
  },
  {
   "cell_type": "code",
   "execution_count": 6,
   "id": "aa3c073b",
   "metadata": {},
   "outputs": [
    {
     "name": "stdout",
     "output_type": "stream",
     "text": [
      "yes\n"
     ]
    }
   ],
   "source": [
    "c=25\n",
    "if c==25:\n",
    "    print(\"yes\")"
   ]
  },
  {
   "cell_type": "code",
   "execution_count": 7,
   "id": "01b27803",
   "metadata": {},
   "outputs": [
    {
     "name": "stdout",
     "output_type": "stream",
     "text": [
      "enter a number8\n",
      "8 is not a prime\n"
     ]
    }
   ],
   "source": [
    "n=int(input(\"enter a number\"))\n",
    "c=0\n",
    "for i in range(2,n+1):\n",
    "    if n == 2:\n",
    "        print(\"prime\")\n",
    "    elif n%1 == 0:\n",
    "        print(n,\"is not a prime\")\n",
    "        break\n",
    "    elif n%i != 0:\n",
    "        print(n,\"is prime\")\n",
    "        break"
   ]
  },
  {
   "cell_type": "code",
   "execution_count": 11,
   "id": "98856128",
   "metadata": {},
   "outputs": [
    {
     "name": "stdout",
     "output_type": "stream",
     "text": [
      "5\n",
      "prime\n"
     ]
    }
   ],
   "source": [
    "n=int(input())\n",
    "c=0\n",
    "for i in range(2,n+1):\n",
    "    if n%i == 0:\n",
    "        c+=1\n",
    "if c == 1:\n",
    "    print(\"prime\")\n",
    "else:\n",
    "    print(\"not a prime\")"
   ]
  },
  {
   "cell_type": "code",
   "execution_count": 12,
   "id": "e3fa1f20",
   "metadata": {},
   "outputs": [
    {
     "name": "stdout",
     "output_type": "stream",
     "text": [
      "no 1\n",
      "no 2\n",
      "no 3\n",
      "no 4\n",
      "no 5\n"
     ]
    }
   ],
   "source": [
    "for i in range(1,6):\n",
    "    if i==1:\n",
    "        print(\"no 1\")\n",
    "    elif i==2:\n",
    "        print(\"no 2\")\n",
    "    elif i==3:\n",
    "        print(\"no 3\")\n",
    "    elif i==4:\n",
    "        print(\"no 4\")\n",
    "    else:\n",
    "        print(\"no 5\")"
   ]
  },
  {
   "cell_type": "code",
   "execution_count": null,
   "id": "a1b72188",
   "metadata": {},
   "outputs": [],
   "source": []
  }
 ],
 "metadata": {
  "kernelspec": {
   "display_name": "Python 3",
   "language": "python",
   "name": "python3"
  },
  "language_info": {
   "codemirror_mode": {
    "name": "ipython",
    "version": 3
   },
   "file_extension": ".py",
   "mimetype": "text/x-python",
   "name": "python",
   "nbconvert_exporter": "python",
   "pygments_lexer": "ipython3",
   "version": "3.8.8"
  }
 },
 "nbformat": 4,
 "nbformat_minor": 5
}
