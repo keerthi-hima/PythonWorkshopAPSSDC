{
 "cells": [
  {
   "cell_type": "code",
   "execution_count": 31,
   "id": "a151b120",
   "metadata": {},
   "outputs": [
    {
     "name": "stdout",
     "output_type": "stream",
     "text": [
      "[2, 7, 'cse', 9.0, 8.5, 13, 17, 'civil']\n"
     ]
    }
   ],
   "source": [
    "lst1=[2,7,'cse',9.0,'mech',8.5,13,17,'civil']\n",
    "lst1.remove('mech')\n",
    "print(lst1)"
   ]
  },
  {
   "cell_type": "raw",
   "id": "7e69c814",
   "metadata": {},
   "source": [
    "lst1=[2,7,'cse',9.0,'mech',8.5,13,17,'civil']\n",
    "lst1.remove(7)\n",
    "print(lst1)"
   ]
  },
  {
   "cell_type": "code",
   "execution_count": 13,
   "id": "6948818e",
   "metadata": {},
   "outputs": [
    {
     "ename": "NameError",
     "evalue": "name 'lst1' is not defined",
     "output_type": "error",
     "traceback": [
      "\u001b[1;31m---------------------------------------------------------------------------\u001b[0m",
      "\u001b[1;31mNameError\u001b[0m                                 Traceback (most recent call last)",
      "\u001b[1;32m<ipython-input-13-11e7a8a8aec1>\u001b[0m in \u001b[0;36m<module>\u001b[1;34m\u001b[0m\n\u001b[1;32m----> 1\u001b[1;33m \u001b[0mprint\u001b[0m\u001b[1;33m(\u001b[0m\u001b[0mlst1\u001b[0m\u001b[1;33m)\u001b[0m\u001b[1;33m\u001b[0m\u001b[1;33m\u001b[0m\u001b[0m\n\u001b[0m",
      "\u001b[1;31mNameError\u001b[0m: name 'lst1' is not defined"
     ]
    }
   ],
   "source": [
    "print(lst1)"
   ]
  },
  {
   "cell_type": "code",
   "execution_count": 6,
   "id": "7312613b",
   "metadata": {},
   "outputs": [],
   "source": [
    "lst1.reverse()"
   ]
  },
  {
   "cell_type": "code",
   "execution_count": 7,
   "id": "6616a4b3",
   "metadata": {},
   "outputs": [
    {
     "name": "stdout",
     "output_type": "stream",
     "text": [
      "['civil', 17, 13, 8.5, 9.0, 'cse', 7, 2]\n"
     ]
    }
   ],
   "source": [
    "print(lst1)"
   ]
  },
  {
   "cell_type": "code",
   "execution_count": 5,
   "id": "c6155530",
   "metadata": {},
   "outputs": [],
   "source": [
    "lst2=[4,8,3,1,6,10]"
   ]
  },
  {
   "cell_type": "code",
   "execution_count": 6,
   "id": "eed90e99",
   "metadata": {},
   "outputs": [
    {
     "name": "stdout",
     "output_type": "stream",
     "text": [
      "[1, 3, 4, 6, 8, 10]\n"
     ]
    }
   ],
   "source": [
    "lst2.sort()\n",
    "print(lst2)"
   ]
  },
  {
   "cell_type": "code",
   "execution_count": 7,
   "id": "4e93582a",
   "metadata": {},
   "outputs": [
    {
     "name": "stdout",
     "output_type": "stream",
     "text": [
      "[10, 8, 6, 4, 3, 1]\n"
     ]
    }
   ],
   "source": [
    "lst2.reverse()\n",
    "print(lst2)"
   ]
  },
  {
   "cell_type": "code",
   "execution_count": 24,
   "id": "8574934b",
   "metadata": {},
   "outputs": [
    {
     "name": "stdout",
     "output_type": "stream",
     "text": [
      "[2, 7, 'spmvv', 'cse', 9.0, 'mech', 8.5, 13, 17, 'civil']\n"
     ]
    }
   ],
   "source": [
    "lst1=[2,7,'cse',9.0,'mech',8.5,13,17,'civil']\n",
    "lst1.insert(2,'spmvv')\n",
    "print(lst1)"
   ]
  },
  {
   "cell_type": "code",
   "execution_count": 25,
   "id": "9d947549",
   "metadata": {},
   "outputs": [
    {
     "name": "stdout",
     "output_type": "stream",
     "text": [
      "[2, 7, 'spmvv', 'cse', 9.0, 34, 'mech', 8.5, 13, 17, 'civil']\n"
     ]
    }
   ],
   "source": [
    "lst1.insert(5,34)\n",
    "print(lst1)"
   ]
  },
  {
   "cell_type": "code",
   "execution_count": 27,
   "id": "98906d17",
   "metadata": {},
   "outputs": [
    {
     "name": "stdout",
     "output_type": "stream",
     "text": [
      "[2, 7, 'spmvv', 'cse', 9.0, 34, 'mech', 8.5, 13]\n"
     ]
    }
   ],
   "source": [
    "lst1.pop()\n",
    "print(lst1)\n"
   ]
  },
  {
   "cell_type": "code",
   "execution_count": 28,
   "id": "b031ec7b",
   "metadata": {},
   "outputs": [
    {
     "name": "stdout",
     "output_type": "stream",
     "text": [
      "[2, 7, 'spmvv', 9.0, 34, 'mech', 8.5, 13]\n"
     ]
    }
   ],
   "source": [
    "lst1.remove('cse')\n",
    "print(lst1)\n"
   ]
  },
  {
   "cell_type": "code",
   "execution_count": 29,
   "id": "b7ddef02",
   "metadata": {},
   "outputs": [
    {
     "data": {
      "text/plain": [
       "[]"
      ]
     },
     "execution_count": 29,
     "metadata": {},
     "output_type": "execute_result"
    }
   ],
   "source": [
    "lst1.clear()\n",
    "lst1"
   ]
  },
  {
   "cell_type": "code",
   "execution_count": 30,
   "id": "932b2c0f",
   "metadata": {},
   "outputs": [
    {
     "name": "stdout",
     "output_type": "stream",
     "text": [
      "0\n"
     ]
    }
   ],
   "source": [
    "print(len(lst1))"
   ]
  },
  {
   "cell_type": "code",
   "execution_count": 32,
   "id": "d351ddd7",
   "metadata": {},
   "outputs": [
    {
     "data": {
      "text/plain": [
       "13"
      ]
     },
     "execution_count": 32,
     "metadata": {},
     "output_type": "execute_result"
    }
   ],
   "source": [
    "lst1.pop(5)"
   ]
  },
  {
   "cell_type": "code",
   "execution_count": 33,
   "id": "5037eb47",
   "metadata": {},
   "outputs": [],
   "source": [
    "lst1.remove(2)"
   ]
  },
  {
   "cell_type": "code",
   "execution_count": 64,
   "id": "7d74c6f1",
   "metadata": {},
   "outputs": [
    {
     "name": "stdout",
     "output_type": "stream",
     "text": [
      "[7, 'cse', 9.0, 8.5, 17, 'civil']\n"
     ]
    }
   ],
   "source": [
    "print(lst1)"
   ]
  },
  {
   "cell_type": "code",
   "execution_count": 53,
   "id": "e72cc637",
   "metadata": {},
   "outputs": [],
   "source": [
    "lst=[12,9.5,'cse','ece',15,8,5.3]"
   ]
  },
  {
   "cell_type": "code",
   "execution_count": 63,
   "id": "6130f00c",
   "metadata": {},
   "outputs": [
    {
     "name": "stdout",
     "output_type": "stream",
     "text": [
      "[12, 15, 8]\n",
      "['cse', 'ece']\n",
      "[9.5, 5.3]\n"
     ]
    }
   ],
   "source": [
    "nlst=[]\n",
    "slst=[]\n",
    "flst=[]\n",
    "for item in lst:\n",
    "    if(type(item)==int):\n",
    "        nlst.append(item)\n",
    "    elif(type(item)==float):\n",
    "        flst.append(item)\n",
    "    else:\n",
    "        slst.append(item)\n",
    "print(nlst)\n",
    "print(slst)\n",
    "print(flst)\n",
    "                    "
   ]
  },
  {
   "cell_type": "markdown",
   "id": "3dbf04d4",
   "metadata": {},
   "source": [
    "### TUPLE        "
   ]
  },
  {
   "cell_type": "markdown",
   "id": "29a7cffc",
   "metadata": {},
   "source": [
    "##### IMMUTABLE"
   ]
  },
  {
   "cell_type": "markdown",
   "id": "434bc0d8",
   "metadata": {},
   "source": [
    "##### A TUPLE IS A COLLECTION WHICH IS ORDERED AND IMMUTABLE"
   ]
  },
  {
   "cell_type": "markdown",
   "id": "b63d5344",
   "metadata": {},
   "source": [
    " ##### TUPLE REPRESENTS WITH ROUND BRACKETS"
   ]
  },
  {
   "cell_type": "markdown",
   "id": "e1264b60",
   "metadata": {},
   "source": [
    "##### ITERATION IN TUPLE IS FASTER THAN LIST"
   ]
  },
  {
   "cell_type": "code",
   "execution_count": 66,
   "id": "2d913bf3",
   "metadata": {},
   "outputs": [],
   "source": [
    "t=('cse',7.8,'mech',6.5,23,76,'ece')"
   ]
  },
  {
   "cell_type": "code",
   "execution_count": 67,
   "id": "2d0fd0de",
   "metadata": {},
   "outputs": [
    {
     "data": {
      "text/plain": [
       "'cse'"
      ]
     },
     "execution_count": 67,
     "metadata": {},
     "output_type": "execute_result"
    }
   ],
   "source": [
    "t[0]"
   ]
  },
  {
   "cell_type": "code",
   "execution_count": 68,
   "id": "739e06c2",
   "metadata": {},
   "outputs": [
    {
     "data": {
      "text/plain": [
       "'ece'"
      ]
     },
     "execution_count": 68,
     "metadata": {},
     "output_type": "execute_result"
    }
   ],
   "source": [
    "t[-1]"
   ]
  },
  {
   "cell_type": "code",
   "execution_count": 69,
   "id": "c04029f1",
   "metadata": {},
   "outputs": [
    {
     "data": {
      "text/plain": [
       "('ece', 76, 23, 6.5, 'mech', 7.8, 'cse')"
      ]
     },
     "execution_count": 69,
     "metadata": {},
     "output_type": "execute_result"
    }
   ],
   "source": [
    " t[-1::-1]"
   ]
  },
  {
   "cell_type": "code",
   "execution_count": 70,
   "id": "5a006579",
   "metadata": {},
   "outputs": [
    {
     "name": "stdout",
     "output_type": "stream",
     "text": [
      "7\n"
     ]
    }
   ],
   "source": [
    "print(len(t))"
   ]
  },
  {
   "cell_type": "code",
   "execution_count": 73,
   "id": "ac8650a8",
   "metadata": {},
   "outputs": [
    {
     "ename": "TypeError",
     "evalue": "'tuple' object doesn't support item deletion",
     "output_type": "error",
     "traceback": [
      "\u001b[1;31m---------------------------------------------------------------------------\u001b[0m",
      "\u001b[1;31mTypeError\u001b[0m                                 Traceback (most recent call last)",
      "\u001b[1;32m<ipython-input-73-2d0f41a77003>\u001b[0m in \u001b[0;36m<module>\u001b[1;34m\u001b[0m\n\u001b[1;32m----> 1\u001b[1;33m \u001b[1;32mdel\u001b[0m \u001b[0mt\u001b[0m\u001b[1;33m[\u001b[0m\u001b[1;36m2\u001b[0m\u001b[1;33m]\u001b[0m\u001b[1;33m\u001b[0m\u001b[1;33m\u001b[0m\u001b[0m\n\u001b[0m",
      "\u001b[1;31mTypeError\u001b[0m: 'tuple' object doesn't support item deletion"
     ]
    }
   ],
   "source": [
    "del t[2] #item wont delete or add in tuple,so immutable"
   ]
  },
  {
   "cell_type": "code",
   "execution_count": 74,
   "id": "59e33ff2",
   "metadata": {},
   "outputs": [
    {
     "data": {
      "text/plain": [
       "9"
      ]
     },
     "execution_count": 74,
     "metadata": {},
     "output_type": "execute_result"
    }
   ],
   "source": [
    "tup=(1,2,3,(4,5,6,7,(8,9)),10,11)\n",
    "tup[3][4][1]"
   ]
  },
  {
   "cell_type": "code",
   "execution_count": 75,
   "id": "92d6d7c4",
   "metadata": {},
   "outputs": [
    {
     "data": {
      "text/plain": [
       "(4, 5, 6, 7, (8, 9))"
      ]
     },
     "execution_count": 75,
     "metadata": {},
     "output_type": "execute_result"
    }
   ],
   "source": [
    "tup[3]"
   ]
  },
  {
   "cell_type": "code",
   "execution_count": 76,
   "id": "39a528e7",
   "metadata": {},
   "outputs": [
    {
     "data": {
      "text/plain": [
       "(8, 9)"
      ]
     },
     "execution_count": 76,
     "metadata": {},
     "output_type": "execute_result"
    }
   ],
   "source": [
    "tup[3][4]"
   ]
  },
  {
   "cell_type": "code",
   "execution_count": 77,
   "id": "82ffccc3",
   "metadata": {},
   "outputs": [
    {
     "data": {
      "text/plain": [
       "9"
      ]
     },
     "execution_count": 77,
     "metadata": {},
     "output_type": "execute_result"
    }
   ],
   "source": [
    "tup[3][4][-1]"
   ]
  },
  {
   "cell_type": "code",
   "execution_count": 78,
   "id": "955ea4b5",
   "metadata": {},
   "outputs": [
    {
     "data": {
      "text/plain": [
       "('cse', 7.8, 'mech', 6.5, 23, 76, 'ece')"
      ]
     },
     "execution_count": 78,
     "metadata": {},
     "output_type": "execute_result"
    }
   ],
   "source": [
    "t"
   ]
  },
  {
   "cell_type": "code",
   "execution_count": 79,
   "id": "fe07d8d5",
   "metadata": {},
   "outputs": [
    {
     "data": {
      "text/plain": [
       "1"
      ]
     },
     "execution_count": 79,
     "metadata": {},
     "output_type": "execute_result"
    }
   ],
   "source": [
    "t.count(23)"
   ]
  },
  {
   "cell_type": "code",
   "execution_count": 80,
   "id": "3251dccf",
   "metadata": {},
   "outputs": [
    {
     "data": {
      "text/plain": [
       "4"
      ]
     },
     "execution_count": 80,
     "metadata": {},
     "output_type": "execute_result"
    }
   ],
   "source": [
    "t.index(23)"
   ]
  },
  {
   "cell_type": "code",
   "execution_count": 81,
   "id": "a0623a4e",
   "metadata": {},
   "outputs": [
    {
     "data": {
      "text/plain": [
       "0"
      ]
     },
     "execution_count": 81,
     "metadata": {},
     "output_type": "execute_result"
    }
   ],
   "source": [
    "t.count(13)"
   ]
  },
  {
   "cell_type": "code",
   "execution_count": null,
   "id": "c21f72be",
   "metadata": {},
   "outputs": [],
   "source": []
  }
 ],
 "metadata": {
  "kernelspec": {
   "display_name": "Python 3",
   "language": "python",
   "name": "python3"
  },
  "language_info": {
   "codemirror_mode": {
    "name": "ipython",
    "version": 3
   },
   "file_extension": ".py",
   "mimetype": "text/x-python",
   "name": "python",
   "nbconvert_exporter": "python",
   "pygments_lexer": "ipython3",
   "version": "3.8.8"
  }
 },
 "nbformat": 4,
 "nbformat_minor": 5
}
