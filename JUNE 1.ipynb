{
 "cells": [
  {
   "cell_type": "markdown",
   "id": "7b2a541a",
   "metadata": {},
   "source": [
    "## PATTERN WRITING USING REGULAR EXPRESSIONS"
   ]
  },
  {
   "cell_type": "markdown",
   "id": "c4defa35",
   "metadata": {},
   "source": [
    "### NAME VALIDATION\n",
    "\n",
    "* M Srilalitha\n",
    "* Srilalitha M\n",
    "* M.Srilalitha\n",
    "* M Sri Lalitha\n",
    "* Sri Lalitha Mulpuru\n",
    "* Kollati Keerthi\n",
    "* M Sri\n",
    "* S M"
   ]
  },
  {
   "cell_type": "code",
   "execution_count": 3,
   "id": "aeb11762",
   "metadata": {},
   "outputs": [
    {
     "name": "stdout",
     "output_type": "stream",
     "text": [
      "M Srilalitha\n"
     ]
    },
    {
     "data": {
      "text/plain": [
       "<re.Match object; span=(0, 12), match='M Srilalitha'>"
      ]
     },
     "execution_count": 3,
     "metadata": {},
     "output_type": "execute_result"
    }
   ],
   "source": [
    "import re\n",
    "pattern=\"[A-Z][A-Za-z]{0,10}[.]{0,1}[ ][A-Z][A-Za-z]{2,10}[ ]{0,1}[A-Z]{0,1}[A-Za-z]{0,8}\"\n",
    "n=input()\n",
    "re.match(pattern,n)"
   ]
  },
  {
   "cell_type": "markdown",
   "id": "282c365f",
   "metadata": {},
   "source": [
    "### PHONE NUMBER PATTERN\n",
    "* 6745321986\n",
    "* 06745321986\n",
    "* 916745321986\n",
    "* +916745321986"
   ]
  },
  {
   "cell_type": "code",
   "execution_count": 4,
   "id": "f2bcc932",
   "metadata": {},
   "outputs": [
    {
     "name": "stdout",
     "output_type": "stream",
     "text": [
      "917865455439\n"
     ]
    },
    {
     "data": {
      "text/plain": [
       "<re.Match object; span=(0, 12), match='917865455439'>"
      ]
     },
     "execution_count": 4,
     "metadata": {},
     "output_type": "execute_result"
    }
   ],
   "source": [
    "pattern = \"[+]{0,1}[9][1][6-9][0-9]{9}|[0]{0,1}[6-9][0-9]{9}\"\n",
    "n=input()\n",
    "re.match(pattern,n)"
   ]
  },
  {
   "cell_type": "markdown",
   "id": "622ade71",
   "metadata": {},
   "source": [
    "### EMAIL VALIDATOR\n",
    "* srilalitha1234.m@apssdc.in\n",
    "* all letters must be lowercase alphabets ===> 6 max 14\n",
    "* contains some numbers (optional) ==> 1 to 6\n",
    "* it may contain special characters (optional) ==> [&.-_]\n",
    "* after special character must contain numbers or digits \n",
    "* must contain @\n",
    "* must contains some alphabets ===> length 4-8\n",
    "* must contain .\n",
    "* must contains some alphabets ===> length 2-4 "
   ]
  },
  {
   "cell_type": "markdown",
   "id": "f9318490",
   "metadata": {},
   "source": [
    "### COMPREHENSIONS\n",
    "\n",
    "* Comprehensions are used to reduce number of lines of code\n",
    "\n",
    "##### TYPES\n",
    "\n",
    "* List comprehension\n",
    "* set comprehension\n",
    "* Dictionary comprehension"
   ]
  },
  {
   "cell_type": "markdown",
   "id": "53ffa3ca",
   "metadata": {},
   "source": [
    "#### 1.List Comprehension\n",
    "* if only if condition is there ==>[output loop condition]\n",
    "* if cantains both if and else ==>[output(if) condition loop]"
   ]
  },
  {
   "cell_type": "code",
   "execution_count": 9,
   "id": "d9838c65",
   "metadata": {},
   "outputs": [
    {
     "name": "stdout",
     "output_type": "stream",
     "text": [
      "Even numbers: [2, 4, 6, 8]\n"
     ]
    }
   ],
   "source": [
    "l=[1,2,3,4,5,6,7,8,9]\n",
    "l1=[]\n",
    "for i in l:\n",
    "    if i%2==0:\n",
    "        l1.append(i)\n",
    "print(\"Even numbers:\",l1)"
   ]
  },
  {
   "cell_type": "code",
   "execution_count": 10,
   "id": "2183a229",
   "metadata": {},
   "outputs": [
    {
     "name": "stdout",
     "output_type": "stream",
     "text": [
      "Even numbers: [2, 4, 6, 8]\n"
     ]
    }
   ],
   "source": [
    "s=[i for i in l if i%2==0]\n",
    "print(\"Even numbers:\",s)"
   ]
  },
  {
   "cell_type": "code",
   "execution_count": 11,
   "id": "781a4364",
   "metadata": {},
   "outputs": [
    {
     "data": {
      "text/plain": [
       "['odd', 'Even', 'odd', 'Even', 'odd', 'Even', 'odd', 'Even', 'odd']"
      ]
     },
     "execution_count": 11,
     "metadata": {},
     "output_type": "execute_result"
    }
   ],
   "source": [
    "[\"Even\" if i%2==0 else \"odd\" for i in l]"
   ]
  },
  {
   "cell_type": "code",
   "execution_count": 13,
   "id": "c126c365",
   "metadata": {},
   "outputs": [
    {
     "data": {
      "text/plain": [
       "['a', 'b']"
      ]
     },
     "execution_count": 13,
     "metadata": {},
     "output_type": "execute_result"
    }
   ],
   "source": [
    "l=[1,2,3,4,\"a\",\"b\"]\n",
    "[i for i in l if str(i).isalpha()]"
   ]
  },
  {
   "cell_type": "code",
   "execution_count": null,
   "id": "10b30bb1",
   "metadata": {},
   "outputs": [],
   "source": []
  }
 ],
 "metadata": {
  "kernelspec": {
   "display_name": "Python 3",
   "language": "python",
   "name": "python3"
  },
  "language_info": {
   "codemirror_mode": {
    "name": "ipython",
    "version": 3
   },
   "file_extension": ".py",
   "mimetype": "text/x-python",
   "name": "python",
   "nbconvert_exporter": "python",
   "pygments_lexer": "ipython3",
   "version": "3.8.8"
  }
 },
 "nbformat": 4,
 "nbformat_minor": 5
}
