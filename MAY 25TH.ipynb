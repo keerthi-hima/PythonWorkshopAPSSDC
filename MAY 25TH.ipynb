{
 "cells": [
  {
   "cell_type": "code",
   "execution_count": 1,
   "id": "497bd964",
   "metadata": {},
   "outputs": [
    {
     "name": "stdout",
     "output_type": "stream",
     "text": [
      "['__add__', '__class__', '__contains__', '__delattr__', '__dir__', '__doc__', '__eq__', '__format__', '__ge__', '__getattribute__', '__getitem__', '__getnewargs__', '__gt__', '__hash__', '__init__', '__init_subclass__', '__iter__', '__le__', '__len__', '__lt__', '__mod__', '__mul__', '__ne__', '__new__', '__reduce__', '__reduce_ex__', '__repr__', '__rmod__', '__rmul__', '__setattr__', '__sizeof__', '__str__', '__subclasshook__', 'capitalize', 'casefold', 'center', 'count', 'encode', 'endswith', 'expandtabs', 'find', 'format', 'format_map', 'index', 'isalnum', 'isalpha', 'isascii', 'isdecimal', 'isdigit', 'isidentifier', 'islower', 'isnumeric', 'isprintable', 'isspace', 'istitle', 'isupper', 'join', 'ljust', 'lower', 'lstrip', 'maketrans', 'partition', 'replace', 'rfind', 'rindex', 'rjust', 'rpartition', 'rsplit', 'rstrip', 'split', 'splitlines', 'startswith', 'strip', 'swapcase', 'title', 'translate', 'upper', 'zfill']\n"
     ]
    }
   ],
   "source": [
    "print(dir(str))"
   ]
  },
  {
   "cell_type": "code",
   "execution_count": 2,
   "id": "ba0bc1da",
   "metadata": {},
   "outputs": [
    {
     "data": {
      "text/plain": [
       "'Python programming'"
      ]
     },
     "execution_count": 2,
     "metadata": {},
     "output_type": "execute_result"
    }
   ],
   "source": [
    "s=\"python programming\"\n",
    "s.capitalize() #capitalises the first character"
   ]
  },
  {
   "cell_type": "code",
   "execution_count": 3,
   "id": "741e796c",
   "metadata": {},
   "outputs": [
    {
     "data": {
      "text/plain": [
       "'python programming'"
      ]
     },
     "execution_count": 3,
     "metadata": {},
     "output_type": "execute_result"
    }
   ],
   "source": [
    "s.casefold()"
   ]
  },
  {
   "cell_type": "code",
   "execution_count": 6,
   "id": "2e444579",
   "metadata": {},
   "outputs": [
    {
     "data": {
      "text/plain": [
       "'python'"
      ]
     },
     "execution_count": 6,
     "metadata": {},
     "output_type": "execute_result"
    }
   ],
   "source": [
    "s1=\"PYTHON\"\n",
    "s1.casefold()\n"
   ]
  },
  {
   "cell_type": "code",
   "execution_count": 7,
   "id": "cd8ac764",
   "metadata": {},
   "outputs": [
    {
     "data": {
      "text/plain": [
       "'python'"
      ]
     },
     "execution_count": 7,
     "metadata": {},
     "output_type": "execute_result"
    }
   ],
   "source": [
    "s2=\"python\"\n",
    "s2.casefold()"
   ]
  },
  {
   "cell_type": "code",
   "execution_count": 8,
   "id": "b130c065",
   "metadata": {},
   "outputs": [
    {
     "data": {
      "text/plain": [
       "'python'"
      ]
     },
     "execution_count": 8,
     "metadata": {},
     "output_type": "execute_result"
    }
   ],
   "source": [
    "s3=\"pyTHon\"\n",
    "s3.casefold() #converts to lowercase alphabet based on keyboards"
   ]
  },
  {
   "cell_type": "code",
   "execution_count": 9,
   "id": "29c4c105",
   "metadata": {},
   "outputs": [
    {
     "data": {
      "text/plain": [
       "'python'"
      ]
     },
     "execution_count": 9,
     "metadata": {},
     "output_type": "execute_result"
    }
   ],
   "source": [
    "s1.lower() #converts to lowercase"
   ]
  },
  {
   "cell_type": "code",
   "execution_count": 10,
   "id": "6b1c32e6",
   "metadata": {},
   "outputs": [
    {
     "data": {
      "text/plain": [
       "'PYTHON'"
      ]
     },
     "execution_count": 10,
     "metadata": {},
     "output_type": "execute_result"
    }
   ],
   "source": [
    "s2.upper() #converts to uppeprcase"
   ]
  },
  {
   "cell_type": "code",
   "execution_count": 11,
   "id": "3a22117b",
   "metadata": {},
   "outputs": [
    {
     "data": {
      "text/plain": [
       "'pyTHon'"
      ]
     },
     "execution_count": 11,
     "metadata": {},
     "output_type": "execute_result"
    }
   ],
   "source": [
    "s3"
   ]
  },
  {
   "cell_type": "code",
   "execution_count": 12,
   "id": "7cfdf4df",
   "metadata": {},
   "outputs": [
    {
     "data": {
      "text/plain": [
       "'PYthON'"
      ]
     },
     "execution_count": 12,
     "metadata": {},
     "output_type": "execute_result"
    }
   ],
   "source": [
    "s3.swapcase() #converts upper to lower,lower to upper"
   ]
  },
  {
   "cell_type": "code",
   "execution_count": 16,
   "id": "0859960f",
   "metadata": {},
   "outputs": [
    {
     "data": {
      "text/plain": [
       "False"
      ]
     },
     "execution_count": 16,
     "metadata": {},
     "output_type": "execute_result"
    }
   ],
   "source": [
    "k = \"Python programming 123 #$@\"\n",
    "k.isdigit() #gives true when all are digits"
   ]
  },
  {
   "cell_type": "code",
   "execution_count": 15,
   "id": "1b6c7d84",
   "metadata": {},
   "outputs": [
    {
     "data": {
      "text/plain": [
       "True"
      ]
     },
     "execution_count": 15,
     "metadata": {},
     "output_type": "execute_result"
    }
   ],
   "source": [
    "k=\"123\"\n",
    "k.isdigit() #isdigit or isnumerous are same methods"
   ]
  },
  {
   "cell_type": "code",
   "execution_count": 20,
   "id": "031e4a7b",
   "metadata": {},
   "outputs": [
    {
     "name": "stdout",
     "output_type": "stream",
     "text": [
      "False\n",
      "False\n",
      "True\n"
     ]
    }
   ],
   "source": [
    "p=\"python123\"\n",
    "print(p.isdigit())\n",
    "p1=\"Python Programming 123 #$@\"\n",
    "print(p1.isdigit())\n",
    "p2=\"3456\"\n",
    "print(p2.isdigit())"
   ]
  },
  {
   "cell_type": "code",
   "execution_count": 22,
   "id": "c134f9b7",
   "metadata": {},
   "outputs": [
    {
     "name": "stdout",
     "output_type": "stream",
     "text": [
      "False\n",
      "False\n"
     ]
    }
   ],
   "source": [
    "q=\"Python Programming\"\n",
    "print(q.isalpha()) #false since space is not a character\n",
    "print(p1.isalpha())"
   ]
  },
  {
   "cell_type": "code",
   "execution_count": 24,
   "id": "6ceff2fe",
   "metadata": {},
   "outputs": [
    {
     "name": "stdout",
     "output_type": "stream",
     "text": [
      "False\n",
      "True\n"
     ]
    }
   ],
   "source": [
    "q1=\"Python Programming\" #false since space is not a character\n",
    "print(q1.isalpha())\n",
    "q2=\"PythonProgramming\" #true since there is no spsace\n",
    "print(q2.isalpha())"
   ]
  },
  {
   "cell_type": "code",
   "execution_count": 25,
   "id": "63daf38e",
   "metadata": {},
   "outputs": [
    {
     "data": {
      "text/plain": [
       "'Python Programming 123 #$@'"
      ]
     },
     "execution_count": 25,
     "metadata": {},
     "output_type": "execute_result"
    }
   ],
   "source": [
    "p1"
   ]
  },
  {
   "cell_type": "code",
   "execution_count": 26,
   "id": "b6f5a4d3",
   "metadata": {},
   "outputs": [
    {
     "name": "stdout",
     "output_type": "stream",
     "text": [
      "False\n"
     ]
    }
   ],
   "source": [
    "print(p1.isalnum()) #since there are spaces and special characters"
   ]
  },
  {
   "cell_type": "code",
   "execution_count": 27,
   "id": "014a3bd1",
   "metadata": {},
   "outputs": [
    {
     "data": {
      "text/plain": [
       "'python123'"
      ]
     },
     "execution_count": 27,
     "metadata": {},
     "output_type": "execute_result"
    }
   ],
   "source": [
    "p"
   ]
  },
  {
   "cell_type": "code",
   "execution_count": 28,
   "id": "a7521122",
   "metadata": {},
   "outputs": [
    {
     "name": "stdout",
     "output_type": "stream",
     "text": [
      "True\n"
     ]
    }
   ],
   "source": [
    "print(p.isalnum())"
   ]
  },
  {
   "cell_type": "code",
   "execution_count": 35,
   "id": "d857ba08",
   "metadata": {},
   "outputs": [
    {
     "data": {
      "text/plain": [
       "['Python', 'Programming']"
      ]
     },
     "execution_count": 35,
     "metadata": {},
     "output_type": "execute_result"
    }
   ],
   "source": [
    "t=\"Python Programming\"\n",
    "t.split()"
   ]
  },
  {
   "cell_type": "code",
   "execution_count": 37,
   "id": "6ba9d313",
   "metadata": {},
   "outputs": [
    {
     "data": {
      "text/plain": [
       "['asrhi&', 'hu$', 'Python Programming']"
      ]
     },
     "execution_count": 37,
     "metadata": {},
     "output_type": "execute_result"
    }
   ],
   "source": [
    "t1=\"asrhi&#hu$#Python Programming\"\n",
    "t1.split(\"#\")"
   ]
  },
  {
   "cell_type": "code",
   "execution_count": 38,
   "id": "af413451",
   "metadata": {},
   "outputs": [
    {
     "data": {
      "text/plain": [
       "['asr', 'i&#', 'u$#Pyt', 'on Programming']"
      ]
     },
     "execution_count": 38,
     "metadata": {},
     "output_type": "execute_result"
    }
   ],
   "source": [
    "t1=\"asrhi&#hu$#Python Programming\"\n",
    "t1.split(\"h\")"
   ]
  },
  {
   "cell_type": "code",
   "execution_count": 39,
   "id": "165cb421",
   "metadata": {},
   "outputs": [
    {
     "data": {
      "text/plain": [
       "['asrhi&#hu$#Python', 'Programming']"
      ]
     },
     "execution_count": 39,
     "metadata": {},
     "output_type": "execute_result"
    }
   ],
   "source": [
    "t1=\"asrhi&#hu$#Python Programming\"\n",
    "t1.split(\" \")"
   ]
  },
  {
   "cell_type": "code",
   "execution_count": 40,
   "id": "9f4c54a4",
   "metadata": {},
   "outputs": [
    {
     "data": {
      "text/plain": [
       "'Python Programming 123 #$@'"
      ]
     },
     "execution_count": 40,
     "metadata": {},
     "output_type": "execute_result"
    }
   ],
   "source": [
    "p1"
   ]
  },
  {
   "cell_type": "code",
   "execution_count": 41,
   "id": "1b9c59f4",
   "metadata": {},
   "outputs": [
    {
     "name": "stdout",
     "output_type": "stream",
     "text": [
      "1\n",
      "2\n",
      "3\n"
     ]
    }
   ],
   "source": [
    "for i in p1:\n",
    "    if i.isdigit():\n",
    "        print(i)"
   ]
  },
  {
   "cell_type": "code",
   "execution_count": 42,
   "id": "4c2de1ce",
   "metadata": {},
   "outputs": [
    {
     "data": {
      "text/plain": [
       "['Python', 'Programming', '123', '#$@']"
      ]
     },
     "execution_count": 42,
     "metadata": {},
     "output_type": "execute_result"
    }
   ],
   "source": [
    "p1.split()"
   ]
  },
  {
   "cell_type": "code",
   "execution_count": 48,
   "id": "4d650497",
   "metadata": {},
   "outputs": [
    {
     "name": "stdout",
     "output_type": "stream",
     "text": [
      "['Python', 'Programming', '123', '#$@']\n",
      "123\n",
      "4\n",
      "26\n"
     ]
    }
   ],
   "source": [
    "p2=p1.split()\n",
    "print(p2)\n",
    "for i in p2:\n",
    "    if i.isdigit():\n",
    "        print(i)\n",
    "print(len(p2))\n",
    "print(len(p1))"
   ]
  },
  {
   "cell_type": "code",
   "execution_count": 50,
   "id": "dab5dccf",
   "metadata": {},
   "outputs": [],
   "source": [
    "s=\"    python programming    \""
   ]
  },
  {
   "cell_type": "code",
   "execution_count": 51,
   "id": "51820cbe",
   "metadata": {},
   "outputs": [
    {
     "data": {
      "text/plain": [
       "'python programming    '"
      ]
     },
     "execution_count": 51,
     "metadata": {},
     "output_type": "execute_result"
    }
   ],
   "source": [
    "s.lstrip()"
   ]
  },
  {
   "cell_type": "code",
   "execution_count": 52,
   "id": "e52220bf",
   "metadata": {},
   "outputs": [
    {
     "data": {
      "text/plain": [
       "'    python programming'"
      ]
     },
     "execution_count": 52,
     "metadata": {},
     "output_type": "execute_result"
    }
   ],
   "source": [
    "s.rstrip()"
   ]
  },
  {
   "cell_type": "code",
   "execution_count": 53,
   "id": "2cb5cbcc",
   "metadata": {},
   "outputs": [
    {
     "data": {
      "text/plain": [
       "'python programming'"
      ]
     },
     "execution_count": 53,
     "metadata": {},
     "output_type": "execute_result"
    }
   ],
   "source": [
    "s.strip()"
   ]
  },
  {
   "cell_type": "code",
   "execution_count": 56,
   "id": "98c98136",
   "metadata": {},
   "outputs": [
    {
     "data": {
      "text/plain": [
       "'$$$$python$programming$$$$'"
      ]
     },
     "execution_count": 56,
     "metadata": {},
     "output_type": "execute_result"
    }
   ],
   "source": [
    "s.replace(\" \",\"$\")"
   ]
  },
  {
   "cell_type": "code",
   "execution_count": 57,
   "id": "94e0db37",
   "metadata": {},
   "outputs": [
    {
     "data": {
      "text/plain": [
       "'    #ython #rogramming    '"
      ]
     },
     "execution_count": 57,
     "metadata": {},
     "output_type": "execute_result"
    }
   ],
   "source": [
    "s.replace(\"p\",\"#\")"
   ]
  },
  {
   "cell_type": "code",
   "execution_count": 58,
   "id": "e37541b2",
   "metadata": {},
   "outputs": [
    {
     "data": {
      "text/plain": [
       "'pythonprogramming'"
      ]
     },
     "execution_count": 58,
     "metadata": {},
     "output_type": "execute_result"
    }
   ],
   "source": [
    "s.replace(\" \",\"\")"
   ]
  },
  {
   "cell_type": "code",
   "execution_count": 59,
   "id": "8da55614",
   "metadata": {},
   "outputs": [
    {
     "data": {
      "text/plain": [
       "'P@y@t@h@o@n@ @P@r@o@g@r@a@m@m@i@n@g'"
      ]
     },
     "execution_count": 59,
     "metadata": {},
     "output_type": "execute_result"
    }
   ],
   "source": [
    "s=\"Python Programming\"\n",
    "\"@\".join(s)"
   ]
  },
  {
   "cell_type": "code",
   "execution_count": 60,
   "id": "cdc1c285",
   "metadata": {},
   "outputs": [
    {
     "data": {
      "text/plain": [
       "'PCSEyCSEtCSEhCSEoCSEnCSE CSEPCSErCSEoCSEgCSErCSEaCSEmCSEmCSEiCSEnCSEg'"
      ]
     },
     "execution_count": 60,
     "metadata": {},
     "output_type": "execute_result"
    }
   ],
   "source": [
    "s=\"Python Programming\"\n",
    "\"@\".join(s)\n",
    "\"CSE\".join(s)"
   ]
  },
  {
   "cell_type": "code",
   "execution_count": 63,
   "id": "21e8dd33",
   "metadata": {},
   "outputs": [
    {
     "name": "stdout",
     "output_type": "stream",
     "text": [
      "2\n",
      "2\n",
      "1\n"
     ]
    }
   ],
   "source": [
    "print(s.count(\"g\"))\n",
    "print(s.count(\"m\"))\n",
    "print(s.count(\"mm\"))"
   ]
  },
  {
   "cell_type": "code",
   "execution_count": 64,
   "id": "0c850f76",
   "metadata": {},
   "outputs": [
    {
     "data": {
      "text/plain": [
       "10"
      ]
     },
     "execution_count": 64,
     "metadata": {},
     "output_type": "execute_result"
    }
   ],
   "source": [
    "s.index(\"g\")"
   ]
  },
  {
   "cell_type": "code",
   "execution_count": 65,
   "id": "b8d93c6d",
   "metadata": {},
   "outputs": [
    {
     "data": {
      "text/plain": [
       "'Python Programming'"
      ]
     },
     "execution_count": 65,
     "metadata": {},
     "output_type": "execute_result"
    }
   ],
   "source": [
    "s"
   ]
  },
  {
   "cell_type": "code",
   "execution_count": 66,
   "id": "b3895f89",
   "metadata": {},
   "outputs": [
    {
     "data": {
      "text/plain": [
       "True"
      ]
     },
     "execution_count": 66,
     "metadata": {},
     "output_type": "execute_result"
    }
   ],
   "source": [
    "s.istitle()"
   ]
  },
  {
   "cell_type": "code",
   "execution_count": 68,
   "id": "ff961d5b",
   "metadata": {},
   "outputs": [
    {
     "data": {
      "text/plain": [
       "False"
      ]
     },
     "execution_count": 68,
     "metadata": {},
     "output_type": "execute_result"
    }
   ],
   "source": [
    "s1=\"Python programming\"\n",
    "s1.istitle()"
   ]
  },
  {
   "cell_type": "code",
   "execution_count": 70,
   "id": "e983d3e4",
   "metadata": {},
   "outputs": [
    {
     "data": {
      "text/plain": [
       "True"
      ]
     },
     "execution_count": 70,
     "metadata": {},
     "output_type": "execute_result"
    }
   ],
   "source": [
    "s.startswith(\"P\")"
   ]
  },
  {
   "cell_type": "code",
   "execution_count": 71,
   "id": "7fa87f9f",
   "metadata": {},
   "outputs": [
    {
     "data": {
      "text/plain": [
       "False"
      ]
     },
     "execution_count": 71,
     "metadata": {},
     "output_type": "execute_result"
    }
   ],
   "source": [
    "s.startswith(\"p\")"
   ]
  },
  {
   "cell_type": "code",
   "execution_count": 72,
   "id": "12919c98",
   "metadata": {},
   "outputs": [
    {
     "data": {
      "text/plain": [
       "False"
      ]
     },
     "execution_count": 72,
     "metadata": {},
     "output_type": "execute_result"
    }
   ],
   "source": [
    "s.startswith(\"k\")"
   ]
  },
  {
   "cell_type": "code",
   "execution_count": 76,
   "id": "ea8c683d",
   "metadata": {},
   "outputs": [
    {
     "data": {
      "text/plain": [
       "'APythonA'"
      ]
     },
     "execution_count": 76,
     "metadata": {},
     "output_type": "execute_result"
    }
   ],
   "source": [
    "s=\"Python\"\n",
    "s.center(8,\"A\")"
   ]
  },
  {
   "cell_type": "code",
   "execution_count": 77,
   "id": "1085c22c",
   "metadata": {},
   "outputs": [
    {
     "data": {
      "text/plain": [
       "'Python'"
      ]
     },
     "execution_count": 77,
     "metadata": {},
     "output_type": "execute_result"
    }
   ],
   "source": [
    "s=\"Python\"\n",
    "s.center(6,\"A\") #length must be greater than the string"
   ]
  },
  {
   "cell_type": "code",
   "execution_count": 78,
   "id": "6e9031eb",
   "metadata": {},
   "outputs": [
    {
     "data": {
      "text/plain": [
       "'Python'"
      ]
     },
     "execution_count": 78,
     "metadata": {},
     "output_type": "execute_result"
    }
   ],
   "source": [
    "s=\"Python\"\n",
    "s.center(5,\"A\")"
   ]
  },
  {
   "cell_type": "code",
   "execution_count": 79,
   "id": "7834c35b",
   "metadata": {},
   "outputs": [
    {
     "data": {
      "text/plain": [
       "'APython'"
      ]
     },
     "execution_count": 79,
     "metadata": {},
     "output_type": "execute_result"
    }
   ],
   "source": [
    "s=\"Python\"\n",
    "s.center(7,\"A\")"
   ]
  },
  {
   "cell_type": "code",
   "execution_count": 80,
   "id": "63431cba",
   "metadata": {},
   "outputs": [
    {
     "data": {
      "text/plain": [
       "'11Python11'"
      ]
     },
     "execution_count": 80,
     "metadata": {},
     "output_type": "execute_result"
    }
   ],
   "source": [
    "s=\"Python\"\n",
    "s.center(10,\"1\")"
   ]
  },
  {
   "cell_type": "code",
   "execution_count": 91,
   "id": "a11fcf19",
   "metadata": {},
   "outputs": [
    {
     "name": "stdout",
     "output_type": "stream",
     "text": [
      "0\n"
     ]
    }
   ],
   "source": [
    "s=\"Python Python Pyhon Programming\"\n",
    "c=0\n",
    "for i in range(len(s)):\n",
    "    if s[i] == \"p\":\n",
    "        c+=1\n",
    "print(c)"
   ]
  },
  {
   "cell_type": "code",
   "execution_count": 92,
   "id": "4b5d1b90",
   "metadata": {},
   "outputs": [],
   "source": [
    "s=\"Python Python Pyhon Programming\"\n",
    "for i in s:\n",
    "    if i==\"p\":\n",
    "        print(s.index(i))"
   ]
  },
  {
   "cell_type": "code",
   "execution_count": null,
   "id": "760195a5",
   "metadata": {},
   "outputs": [],
   "source": []
  }
 ],
 "metadata": {
  "kernelspec": {
   "display_name": "Python 3",
   "language": "python",
   "name": "python3"
  },
  "language_info": {
   "codemirror_mode": {
    "name": "ipython",
    "version": 3
   },
   "file_extension": ".py",
   "mimetype": "text/x-python",
   "name": "python",
   "nbconvert_exporter": "python",
   "pygments_lexer": "ipython3",
   "version": "3.8.8"
  }
 },
 "nbformat": 4,
 "nbformat_minor": 5
}
