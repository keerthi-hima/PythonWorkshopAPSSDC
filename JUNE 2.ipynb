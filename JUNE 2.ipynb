{
 "cells": [
  {
   "cell_type": "markdown",
   "id": "73d1d3ff",
   "metadata": {},
   "source": [
    "## FUNCTIONS\n",
    "* A function is a set of statements that take inputs,do some specific computation and produces output.\n",
    "* functions are reusable.\n"
   ]
  },
  {
   "cell_type": "markdown",
   "id": "bd3c7d0e",
   "metadata": {},
   "source": [
    "#### PARAMETERS\n",
    "* A parameter is a variable used to define a particular value during a function definition\n"
   ]
  },
  {
   "cell_type": "markdown",
   "id": "60a4bb4b",
   "metadata": {},
   "source": [
    "#### ARGUMENTS \n",
    "* An argument is a value passed to a function at the time of function calling\n",
    "* syntax: def function-name(define parameters)\n",
    "         statement1\n",
    "         statement2\n",
    "        -\n",
    "        -\n",
    "         statement n\n",
    "      function-name(pass arguments)"
   ]
  },
  {
   "cell_type": "code",
   "execution_count": 1,
   "id": "5ba94e42",
   "metadata": {},
   "outputs": [],
   "source": [
    "def isEvenorOdd(n):\n",
    "    if(n%2 == 0):\n",
    "        print(n,\"is even\")\n",
    "    else:\n",
    "        print(n,\"is odd\")"
   ]
  },
  {
   "cell_type": "code",
   "execution_count": 2,
   "id": "b54d7248",
   "metadata": {},
   "outputs": [
    {
     "name": "stdout",
     "output_type": "stream",
     "text": [
      "5 is odd\n"
     ]
    }
   ],
   "source": [
    "isEvenorOdd(5)"
   ]
  },
  {
   "cell_type": "code",
   "execution_count": 3,
   "id": "1ef0a4cf",
   "metadata": {},
   "outputs": [
    {
     "name": "stdout",
     "output_type": "stream",
     "text": [
      "5 is odd\n"
     ]
    }
   ],
   "source": [
    "n=5\n",
    "if(n%2 == 0):\n",
    "    print(n,\"is even\")\n",
    "else:\n",
    "    print(n,\"is odd\")"
   ]
  },
  {
   "cell_type": "code",
   "execution_count": 5,
   "id": "4ba58629",
   "metadata": {},
   "outputs": [],
   "source": [
    "def add(a,b):\n",
    "    print(a+b)"
   ]
  },
  {
   "cell_type": "code",
   "execution_count": 7,
   "id": "12a5da23",
   "metadata": {},
   "outputs": [
    {
     "name": "stdout",
     "output_type": "stream",
     "text": [
      "5\n"
     ]
    }
   ],
   "source": [
    "add(2,3)"
   ]
  },
  {
   "cell_type": "code",
   "execution_count": 2,
   "id": "49326896",
   "metadata": {},
   "outputs": [
    {
     "name": "stdout",
     "output_type": "stream",
     "text": [
      "8 is even\n"
     ]
    }
   ],
   "source": [
    "def isEvenorOdd(n):\n",
    "    if(n%2 == 0):\n",
    "        print(n,\"is even\")\n",
    "    else:\n",
    "        return n\n",
    "isEvenorOdd(8)\n"
   ]
  },
  {
   "cell_type": "code",
   "execution_count": 3,
   "id": "81cde1bc",
   "metadata": {},
   "outputs": [],
   "source": [
    "def fun_that_prints():\n",
    "    print(\"I printed\")\n",
    "def fun_that_returns():\n",
    "    return \"I returned\"\n"
   ]
  },
  {
   "cell_type": "code",
   "execution_count": 6,
   "id": "36fbefb2",
   "metadata": {},
   "outputs": [
    {
     "name": "stdout",
     "output_type": "stream",
     "text": [
      "I printed\n",
      "I returned\n"
     ]
    }
   ],
   "source": [
    "fun_that_prints()\n",
    "print(fun_that_returns())"
   ]
  },
  {
   "cell_type": "code",
   "execution_count": 3,
   "id": "88f2c46d",
   "metadata": {},
   "outputs": [
    {
     "name": "stdout",
     "output_type": "stream",
     "text": [
      "5\n",
      "None\n",
      "7\n"
     ]
    }
   ],
   "source": [
    "def floor():\n",
    "    print(5)\n",
    "def ceil():\n",
    "    return 7\n",
    "print(floor())\n",
    "print(ceil())\n"
   ]
  },
  {
   "cell_type": "code",
   "execution_count": 4,
   "id": "89655a2d",
   "metadata": {},
   "outputs": [
    {
     "name": "stdout",
     "output_type": "stream",
     "text": [
      "5\n",
      "N factorial is: 120\n"
     ]
    }
   ],
   "source": [
    "def factorial(n):\n",
    "    fact=1\n",
    "    if(n==1):\n",
    "        print(1)\n",
    "    else:\n",
    "        for i in range(1,n+1):\n",
    "            fact *=i\n",
    "        print(\"N factorial is:\",fact)\n",
    "m=int(input())\n",
    "factorial(m)"
   ]
  },
  {
   "cell_type": "markdown",
   "id": "ede042e2",
   "metadata": {},
   "source": [
    "### TYPES OF FUNCTIONS\n",
    "* 1.Without arguments & without return value\n",
    "* 2.Without arguments & with return value\n",
    "* 3.With arguments & without return value\n",
    "* 4.With arguments & with return value"
   ]
  },
  {
   "cell_type": "code",
   "execution_count": 6,
   "id": "33d54cbe",
   "metadata": {},
   "outputs": [
    {
     "name": "stdout",
     "output_type": "stream",
     "text": [
      "8\n"
     ]
    }
   ],
   "source": [
    "#Without arguments & without return value\n",
    "\n",
    "def Addition():\n",
    "    a,b=5,3\n",
    "    print(a+b)\n",
    "    \n",
    "Addition()"
   ]
  },
  {
   "cell_type": "code",
   "execution_count": 8,
   "id": "3293337f",
   "metadata": {},
   "outputs": [
    {
     "name": "stdout",
     "output_type": "stream",
     "text": [
      "15\n"
     ]
    }
   ],
   "source": [
    "#Without arguments & with return value\n",
    "\n",
    "def Multiplication():\n",
    "    a,b=5,3\n",
    "    res=a*b\n",
    "    return res\n",
    "print(Multiplication())"
   ]
  },
  {
   "cell_type": "code",
   "execution_count": 9,
   "id": "78dcb6c3",
   "metadata": {},
   "outputs": [
    {
     "name": "stdout",
     "output_type": "stream",
     "text": [
      "6\n"
     ]
    }
   ],
   "source": [
    "#With arguments & without return value\n",
    "\n",
    "def Multiplication(a,b):\n",
    "    print(a*b)\n",
    "Multiplication(2,3)"
   ]
  },
  {
   "cell_type": "code",
   "execution_count": 10,
   "id": "4fdef8f7",
   "metadata": {},
   "outputs": [
    {
     "name": "stdout",
     "output_type": "stream",
     "text": [
      "20\n"
     ]
    }
   ],
   "source": [
    "#With arguments & with return value\n",
    "\n",
    "def Mul(a,b):\n",
    "    res=a*b\n",
    "    return res\n",
    "print(Mul(5,4))"
   ]
  },
  {
   "cell_type": "markdown",
   "id": "72242fac",
   "metadata": {},
   "source": [
    "### TYPES OF ARGUMENTS\n",
    "* 1.Actual arguments\n",
    "* 2.Formal arguments\n",
    "* 3.Actual argument\n",
    "        1)Position\n",
    "        2)keyword\n",
    "        3)Default\n",
    "        4)varaible length arguments"
   ]
  },
  {
   "cell_type": "code",
   "execution_count": 3,
   "id": "b8d65842",
   "metadata": {},
   "outputs": [
    {
     "name": "stdout",
     "output_type": "stream",
     "text": [
      "11\n"
     ]
    }
   ],
   "source": [
    "def add(a,b): #formal arguments\n",
    "    c=a+b\n",
    "    print(c)\n",
    "    \n",
    "add(5,6) #actual"
   ]
  },
  {
   "cell_type": "code",
   "execution_count": 20,
   "id": "bb3c6787",
   "metadata": {},
   "outputs": [
    {
     "name": "stdout",
     "output_type": "stream",
     "text": [
      "Person name: xyz\n",
      "Person age: 21\n"
     ]
    }
   ],
   "source": [
    "#1.Positional argumnets\n",
    "\n",
    "def person(name,age):\n",
    "    print(\"Person name:\",name)\n",
    "    print(\"Person age:\",age)\n",
    "person(\"xyz\",21)"
   ]
  },
  {
   "cell_type": "code",
   "execution_count": 21,
   "id": "88d973c9",
   "metadata": {},
   "outputs": [
    {
     "name": "stdout",
     "output_type": "stream",
     "text": [
      "Person name: 30\n",
      "Person age: xyz\n"
     ]
    }
   ],
   "source": [
    "def person(name,age):\n",
    "    print(\"Person name:\",name)\n",
    "    print(\"Person age:\",age)\n",
    "person(30,\"xyz\")"
   ]
  },
  {
   "cell_type": "code",
   "execution_count": 22,
   "id": "b18c1968",
   "metadata": {},
   "outputs": [
    {
     "name": "stdout",
     "output_type": "stream",
     "text": [
      "Person name: 30\n"
     ]
    },
    {
     "ename": "TypeError",
     "evalue": "unsupported operand type(s) for -: 'str' and 'int'",
     "output_type": "error",
     "traceback": [
      "\u001b[1;31m---------------------------------------------------------------------------\u001b[0m",
      "\u001b[1;31mTypeError\u001b[0m                                 Traceback (most recent call last)",
      "\u001b[1;32m<ipython-input-22-473e6213b543>\u001b[0m in \u001b[0;36m<module>\u001b[1;34m\u001b[0m\n\u001b[0;32m      2\u001b[0m     \u001b[0mprint\u001b[0m\u001b[1;33m(\u001b[0m\u001b[1;34m\"Person name:\"\u001b[0m\u001b[1;33m,\u001b[0m\u001b[0mname\u001b[0m\u001b[1;33m)\u001b[0m\u001b[1;33m\u001b[0m\u001b[1;33m\u001b[0m\u001b[0m\n\u001b[0;32m      3\u001b[0m     \u001b[0mprint\u001b[0m\u001b[1;33m(\u001b[0m\u001b[1;34m\"Person age:\"\u001b[0m\u001b[1;33m,\u001b[0m\u001b[0mage\u001b[0m\u001b[1;33m-\u001b[0m\u001b[1;36m1\u001b[0m\u001b[1;33m)\u001b[0m\u001b[1;33m\u001b[0m\u001b[1;33m\u001b[0m\u001b[0m\n\u001b[1;32m----> 4\u001b[1;33m \u001b[0mperson\u001b[0m\u001b[1;33m(\u001b[0m\u001b[1;36m30\u001b[0m\u001b[1;33m,\u001b[0m\u001b[1;34m\"xyz\"\u001b[0m\u001b[1;33m)\u001b[0m\u001b[1;33m\u001b[0m\u001b[1;33m\u001b[0m\u001b[0m\n\u001b[0m",
      "\u001b[1;32m<ipython-input-22-473e6213b543>\u001b[0m in \u001b[0;36mperson\u001b[1;34m(name, age)\u001b[0m\n\u001b[0;32m      1\u001b[0m \u001b[1;32mdef\u001b[0m \u001b[0mperson\u001b[0m\u001b[1;33m(\u001b[0m\u001b[0mname\u001b[0m\u001b[1;33m,\u001b[0m\u001b[0mage\u001b[0m\u001b[1;33m)\u001b[0m\u001b[1;33m:\u001b[0m\u001b[1;33m\u001b[0m\u001b[1;33m\u001b[0m\u001b[0m\n\u001b[0;32m      2\u001b[0m     \u001b[0mprint\u001b[0m\u001b[1;33m(\u001b[0m\u001b[1;34m\"Person name:\"\u001b[0m\u001b[1;33m,\u001b[0m\u001b[0mname\u001b[0m\u001b[1;33m)\u001b[0m\u001b[1;33m\u001b[0m\u001b[1;33m\u001b[0m\u001b[0m\n\u001b[1;32m----> 3\u001b[1;33m     \u001b[0mprint\u001b[0m\u001b[1;33m(\u001b[0m\u001b[1;34m\"Person age:\"\u001b[0m\u001b[1;33m,\u001b[0m\u001b[0mage\u001b[0m\u001b[1;33m-\u001b[0m\u001b[1;36m1\u001b[0m\u001b[1;33m)\u001b[0m\u001b[1;33m\u001b[0m\u001b[1;33m\u001b[0m\u001b[0m\n\u001b[0m\u001b[0;32m      4\u001b[0m \u001b[0mperson\u001b[0m\u001b[1;33m(\u001b[0m\u001b[1;36m30\u001b[0m\u001b[1;33m,\u001b[0m\u001b[1;34m\"xyz\"\u001b[0m\u001b[1;33m)\u001b[0m\u001b[1;33m\u001b[0m\u001b[1;33m\u001b[0m\u001b[0m\n",
      "\u001b[1;31mTypeError\u001b[0m: unsupported operand type(s) for -: 'str' and 'int'"
     ]
    }
   ],
   "source": [
    "def person(name,age):\n",
    "    print(\"Person name:\",name)\n",
    "    print(\"Person age:\",age-1)\n",
    "person(30,\"xyz\")"
   ]
  },
  {
   "cell_type": "code",
   "execution_count": 23,
   "id": "5186676c",
   "metadata": {},
   "outputs": [
    {
     "name": "stdout",
     "output_type": "stream",
     "text": [
      "Person name: xyz\n",
      "Person age: 29\n"
     ]
    }
   ],
   "source": [
    "# Keyword arguments\n",
    "\n",
    "def person(name,age):\n",
    "    print(\"Person name:\",name)\n",
    "    print(\"Person age:\",age-1)\n",
    "person(age=30,name=\"xyz\")"
   ]
  },
  {
   "cell_type": "code",
   "execution_count": 24,
   "id": "9456923d",
   "metadata": {},
   "outputs": [
    {
     "name": "stdout",
     "output_type": "stream",
     "text": [
      "Person name: xyz\n",
      "Person age: 20\n"
     ]
    }
   ],
   "source": [
    "# Default arguments\n",
    "\n",
    "def person(name,age=21):\n",
    "    print(\"Person name:\",name)\n",
    "    print(\"Person age:\",age-1)\n",
    "person(\"xyz\")"
   ]
  },
  {
   "cell_type": "code",
   "execution_count": 7,
   "id": "d5972c8f",
   "metadata": {},
   "outputs": [
    {
     "name": "stdout",
     "output_type": "stream",
     "text": [
      "Person name: xyz\n",
      "Person age: 30\n"
     ]
    }
   ],
   "source": [
    "def person(name=\"abc\",age=21):\n",
    "    print(\"Person name:\",name)\n",
    "    print(\"Person age:\",age)\n",
    "person(\"xyz\",30)"
   ]
  },
  {
   "cell_type": "code",
   "execution_count": 8,
   "id": "1260e430",
   "metadata": {},
   "outputs": [
    {
     "ename": "TypeError",
     "evalue": "add() takes 2 positional arguments but 4 were given",
     "output_type": "error",
     "traceback": [
      "\u001b[1;31m---------------------------------------------------------------------------\u001b[0m",
      "\u001b[1;31mTypeError\u001b[0m                                 Traceback (most recent call last)",
      "\u001b[1;32m<ipython-input-8-9fb67ca3342d>\u001b[0m in \u001b[0;36m<module>\u001b[1;34m\u001b[0m\n\u001b[0;32m      3\u001b[0m \u001b[1;32mdef\u001b[0m \u001b[0madd\u001b[0m\u001b[1;33m(\u001b[0m\u001b[0ma\u001b[0m\u001b[1;33m,\u001b[0m\u001b[0mb\u001b[0m\u001b[1;33m)\u001b[0m\u001b[1;33m:\u001b[0m\u001b[1;33m\u001b[0m\u001b[1;33m\u001b[0m\u001b[0m\n\u001b[0;32m      4\u001b[0m     \u001b[0mprint\u001b[0m\u001b[1;33m(\u001b[0m\u001b[0ma\u001b[0m\u001b[1;33m+\u001b[0m\u001b[0mb\u001b[0m\u001b[1;33m)\u001b[0m\u001b[1;33m\u001b[0m\u001b[1;33m\u001b[0m\u001b[0m\n\u001b[1;32m----> 5\u001b[1;33m \u001b[0madd\u001b[0m\u001b[1;33m(\u001b[0m\u001b[1;36m1\u001b[0m\u001b[1;33m,\u001b[0m\u001b[1;36m2\u001b[0m\u001b[1;33m,\u001b[0m\u001b[1;36m3\u001b[0m\u001b[1;33m,\u001b[0m\u001b[1;36m4\u001b[0m\u001b[1;33m)\u001b[0m\u001b[1;33m\u001b[0m\u001b[1;33m\u001b[0m\u001b[0m\n\u001b[0m",
      "\u001b[1;31mTypeError\u001b[0m: add() takes 2 positional arguments but 4 were given"
     ]
    }
   ],
   "source": [
    "# Variable length argumnets\n",
    "\n",
    "def add(a,b):\n",
    "    print(a+b)\n",
    "add(1,2,3,4)"
   ]
  },
  {
   "cell_type": "code",
   "execution_count": 11,
   "id": "46c01bef",
   "metadata": {},
   "outputs": [
    {
     "name": "stdout",
     "output_type": "stream",
     "text": [
      "a= 1\n",
      "b= (2, 3, 4)\n"
     ]
    }
   ],
   "source": [
    "def add(a,*b):\n",
    "    print(\"a=\",a)\n",
    "    print(\"b=\",b)\n",
    "add(1,2,3,4)"
   ]
  },
  {
   "cell_type": "code",
   "execution_count": 12,
   "id": "6115fa29",
   "metadata": {},
   "outputs": [
    {
     "name": "stdout",
     "output_type": "stream",
     "text": [
      "10\n"
     ]
    }
   ],
   "source": [
    "def add(a,*b):\n",
    "    s=a\n",
    "    for i in b:\n",
    "        s+=i\n",
    "    print(s)\n",
    "add(1,2,3,4)"
   ]
  },
  {
   "cell_type": "code",
   "execution_count": null,
   "id": "c6a58b00",
   "metadata": {},
   "outputs": [],
   "source": []
  }
 ],
 "metadata": {
  "kernelspec": {
   "display_name": "Python 3",
   "language": "python",
   "name": "python3"
  },
  "language_info": {
   "codemirror_mode": {
    "name": "ipython",
    "version": 3
   },
   "file_extension": ".py",
   "mimetype": "text/x-python",
   "name": "python",
   "nbconvert_exporter": "python",
   "pygments_lexer": "ipython3",
   "version": "3.8.8"
  }
 },
 "nbformat": 4,
 "nbformat_minor": 5
}
