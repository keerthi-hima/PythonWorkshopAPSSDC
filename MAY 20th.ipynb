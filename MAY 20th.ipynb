{
 "cells": [
  {
   "cell_type": "markdown",
   "id": "029ad5d9",
   "metadata": {},
   "source": [
    "# CONDITIONAL STATEMENTS"
   ]
  },
  {
   "cell_type": "markdown",
   "id": "bf6e64c0",
   "metadata": {},
   "source": [
    "### IF\n",
    "### ELIF\n",
    "### ELSE\n",
    "### NESTEDIF"
   ]
  },
  {
   "cell_type": "code",
   "execution_count": 1,
   "id": "3051a60a",
   "metadata": {},
   "outputs": [
    {
     "name": "stdout",
     "output_type": "stream",
     "text": [
      "a is greater than b\n"
     ]
    }
   ],
   "source": [
    "a,b=12,10\n",
    "if(a>b):\n",
    "    print(\"a is greater than b\")\n",
    "else:\n",
    "    print(\"a is less than b\")"
   ]
  },
  {
   "cell_type": "code",
   "execution_count": 3,
   "id": "9a1ce418",
   "metadata": {},
   "outputs": [
    {
     "name": "stdout",
     "output_type": "stream",
     "text": [
      "a is greater than b\n"
     ]
    }
   ],
   "source": [
    "a,b=12,10\n",
    "if(a<b):\n",
    "    print(\"a is less than b\")\n",
    "else:\n",
    "    print(\"a is greater than b\")"
   ]
  },
  {
   "cell_type": "code",
   "execution_count": 4,
   "id": "35ab8614",
   "metadata": {},
   "outputs": [
    {
     "name": "stdout",
     "output_type": "stream",
     "text": [
      "a is less than b\n"
     ]
    }
   ],
   "source": [
    "a,b=10,20\n",
    "if(a<b):\n",
    "    print(\"a is less than b\")\n",
    "else:\n",
    "    print(\"a is greater than b\")"
   ]
  },
  {
   "cell_type": "code",
   "execution_count": 6,
   "id": "703ab830",
   "metadata": {},
   "outputs": [
    {
     "name": "stdout",
     "output_type": "stream",
     "text": [
      "enter 1st number6\n",
      "enter 2nd number9\n",
      "enter 3rd number10\n",
      "r is big\n"
     ]
    }
   ],
   "source": [
    "p=int(input(\"enter 1st number\"))\n",
    "q=int(input(\"enter 2nd number\"))\n",
    "r=int(input(\"enter 3rd number\"))\n",
    "if(p>q and p>r):\n",
    "    print(\"p is big\")\n",
    "elif(q>p and q>r):\n",
    "    print(\"q is big\")\n",
    "else:\n",
    "    print(\"r is big\")"
   ]
  },
  {
   "cell_type": "code",
   "execution_count": 7,
   "id": "e770ab39",
   "metadata": {},
   "outputs": [
    {
     "name": "stdout",
     "output_type": "stream",
     "text": [
      "enter 1st number-10\n",
      "enter 2nd number-5\n",
      "enter 3rd number-20\n",
      "q is big\n"
     ]
    }
   ],
   "source": [
    "p=int(input(\"enter 1st number\"))\n",
    "q=int(input(\"enter 2nd number\"))\n",
    "r=int(input(\"enter 3rd number\"))\n",
    "if(p>q and p>r):\n",
    "    print(\"p is big\")\n",
    "elif(q>p and q>r):\n",
    "    print(\"q is big\")\n",
    "else:\n",
    "    print(\"r is big\")"
   ]
  },
  {
   "cell_type": "code",
   "execution_count": 8,
   "id": "17c75592",
   "metadata": {},
   "outputs": [
    {
     "name": "stdout",
     "output_type": "stream",
     "text": [
      "enter a value5\n",
      "5 is odd\n"
     ]
    }
   ],
   "source": [
    "a=int(input(\"enter a value\"))\n",
    "if(a%2==0):\n",
    "    print(a,\"is even\")\n",
    "else:\n",
    "    print(a,\"is odd\")"
   ]
  },
  {
   "cell_type": "code",
   "execution_count": 9,
   "id": "6b1ab37f",
   "metadata": {},
   "outputs": [
    {
     "name": "stdout",
     "output_type": "stream",
     "text": [
      "enter a value10\n",
      "10 is even\n"
     ]
    }
   ],
   "source": [
    "a=int(input(\"enter a value\"))\n",
    "if(a%2==0):\n",
    "    print(a,\"is even\")\n",
    "else:\n",
    "    print(a,\"is odd\")"
   ]
  },
  {
   "cell_type": "markdown",
   "id": "35681299",
   "metadata": {},
   "source": [
    "# NESTED IF"
   ]
  },
  {
   "cell_type": "code",
   "execution_count": 13,
   "id": "1d8d5979",
   "metadata": {},
   "outputs": [
    {
     "name": "stdout",
     "output_type": "stream",
     "text": [
      "enter a value10\n",
      "10 is even number\n"
     ]
    }
   ],
   "source": [
    "n=int(input(\"enter a value\"))\n",
    "if(n==10):\n",
    "    if(n%2==0):\n",
    "        print(n,\"is even number\")\n",
    "    if(n%2==1):\n",
    "        print(n,\"is odd number\")\n",
    "else:\n",
    "    print(n,\"is not equal to 10\")"
   ]
  },
  {
   "cell_type": "code",
   "execution_count": 12,
   "id": "2f8741e1",
   "metadata": {},
   "outputs": [
    {
     "name": "stdout",
     "output_type": "stream",
     "text": [
      "enter a value6\n",
      "6 is not equal to 10\n"
     ]
    }
   ],
   "source": [
    "n=int(input(\"enter a value\"))\n",
    "if(n==10):\n",
    "    if(n%2==0):\n",
    "        print(n,\"is even number\")\n",
    "    if(n%2==1):\n",
    "        print(n,\"is odd number\")\n",
    "else:\n",
    "    print(n,\"is not equal to 10\")"
   ]
  },
  {
   "cell_type": "code",
   "execution_count": 15,
   "id": "f3814c19",
   "metadata": {},
   "outputs": [
    {
     "name": "stdout",
     "output_type": "stream",
     "text": [
      "enter a value6\n",
      "6 is not equal to 10\n"
     ]
    }
   ],
   "source": [
    "n=int(input(\"enter a value\"))\n",
    "if(n==5):\n",
    "    if(n%2==0):\n",
    "        print(n,\"is even number\")\n",
    "    if(n%2==1):\n",
    "        print(n,\"is odd number\")\n",
    "else:\n",
    "    print(n,\"is not equal to 10\")"
   ]
  },
  {
   "cell_type": "code",
   "execution_count": 16,
   "id": "ecf9d15e",
   "metadata": {},
   "outputs": [
    {
     "name": "stdout",
     "output_type": "stream",
     "text": [
      "enter a value5\n",
      "5 is odd number\n"
     ]
    }
   ],
   "source": [
    "n=int(input(\"enter a value\"))\n",
    "if(n==5):\n",
    "    if(n%2==0):\n",
    "        print(n,\"is even number\")\n",
    "    if(n%2==1):\n",
    "        print(n,\"is odd number\")\n",
    "else:\n",
    "    print(n,\"is not equal to 10\")"
   ]
  },
  {
   "cell_type": "code",
   "execution_count": 17,
   "id": "f3be5787",
   "metadata": {},
   "outputs": [
    {
     "name": "stdout",
     "output_type": "stream",
     "text": [
      "enter a value9\n",
      "9 is odd number\n"
     ]
    }
   ],
   "source": [
    "n=int(input(\"enter a value\"))\n",
    "if(n!=0 and not(n<0)):\n",
    "    if(n%2==0):\n",
    "        print(n,\"is even number\")\n",
    "    if(n%2==1):\n",
    "        print(n,\"is odd number\")\n",
    "else:\n",
    "    print(n,\"is not a positive number\")"
   ]
  },
  {
   "cell_type": "code",
   "execution_count": 18,
   "id": "8aacb25a",
   "metadata": {},
   "outputs": [
    {
     "name": "stdout",
     "output_type": "stream",
     "text": [
      "enter a value-20\n",
      "-20 is not a positive number\n"
     ]
    }
   ],
   "source": [
    "n=int(input(\"enter a value\"))\n",
    "if(n!=0 and not(n<0)):\n",
    "    if(n%2==0):\n",
    "        print(n,\"is even number\")\n",
    "    if(n%2==1):\n",
    "        print(n,\"is odd number\")\n",
    "else:\n",
    "    print(n,\"is not a positive number\")"
   ]
  },
  {
   "cell_type": "code",
   "execution_count": 20,
   "id": "848c431a",
   "metadata": {},
   "outputs": [
    {
     "name": "stdout",
     "output_type": "stream",
     "text": [
      "enter a value8\n",
      "8 is even number\n"
     ]
    }
   ],
   "source": [
    "n=int(input(\"enter a value\"))\n",
    "if(n!=0 and not(n<0)):\n",
    "    if(n%2==0):\n",
    "        print(n,\"is even number\")\n",
    "    if(n%2==1):\n",
    "        print(n,\"is odd number\")\n",
    "else:\n",
    "    print(n,\"is not a positive number\")"
   ]
  },
  {
   "cell_type": "markdown",
   "id": "3dd227ad",
   "metadata": {},
   "source": [
    "# LOOPING STATEMENTS\n",
    "A FOR LOOP IS USED FOR ITERATING OVER A SEQUENCE(LIST,TUPLE,DICTIONARY,A SET OR STRING)"
   ]
  },
  {
   "cell_type": "code",
   "execution_count": 22,
   "id": "6587d967",
   "metadata": {},
   "outputs": [
    {
     "name": "stdout",
     "output_type": "stream",
     "text": [
      "0\n",
      "1\n",
      "2\n",
      "3\n",
      "4\n"
     ]
    }
   ],
   "source": [
    "for i in range(5):\n",
    "    print(i)"
   ]
  },
  {
   "cell_type": "code",
   "execution_count": 23,
   "id": "00902108",
   "metadata": {},
   "outputs": [
    {
     "name": "stdout",
     "output_type": "stream",
     "text": [
      "0\n",
      "1\n",
      "2\n",
      "3\n",
      "4\n"
     ]
    }
   ],
   "source": [
    "for i in range(0,5):\n",
    "    print(i)"
   ]
  },
  {
   "cell_type": "code",
   "execution_count": 24,
   "id": "1ab6964d",
   "metadata": {},
   "outputs": [
    {
     "name": "stdout",
     "output_type": "stream",
     "text": [
      "1\n",
      "2\n",
      "3\n",
      "4\n"
     ]
    }
   ],
   "source": [
    "for i in range(1,5): \n",
    "    print(i)"
   ]
  },
  {
   "cell_type": "code",
   "execution_count": 26,
   "id": "e9a5e411",
   "metadata": {},
   "outputs": [
    {
     "name": "stdout",
     "output_type": "stream",
     "text": [
      "1\n",
      "3\n",
      "5\n",
      "7\n",
      "9\n"
     ]
    }
   ],
   "source": [
    "for i in range(1,10,2): #increments by 2\n",
    "    print(i)"
   ]
  },
  {
   "cell_type": "code",
   "execution_count": 27,
   "id": "66be97bb",
   "metadata": {},
   "outputs": [
    {
     "name": "stdout",
     "output_type": "stream",
     "text": [
      "1 3 5 7 9 "
     ]
    }
   ],
   "source": [
    "for i in range(1,10,2): #increments by 2\n",
    "    print(i,end=\" \")"
   ]
  },
  {
   "cell_type": "code",
   "execution_count": 28,
   "id": "39967335",
   "metadata": {},
   "outputs": [
    {
     "name": "stdout",
     "output_type": "stream",
     "text": [
      "2 4 6 8 "
     ]
    }
   ],
   "source": [
    "for i in range(2,10,2):\n",
    "    print(i,end=\" \")"
   ]
  },
  {
   "cell_type": "code",
   "execution_count": 29,
   "id": "e2ded90f",
   "metadata": {},
   "outputs": [
    {
     "name": "stdout",
     "output_type": "stream",
     "text": [
      "2 4 6 8 10 "
     ]
    }
   ],
   "source": [
    "for i in range(2,11,2):\n",
    "    print(i,end=\" \")"
   ]
  },
  {
   "cell_type": "code",
   "execution_count": 30,
   "id": "abab826b",
   "metadata": {},
   "outputs": [
    {
     "name": "stdout",
     "output_type": "stream",
     "text": [
      "10 8 6 4 2 "
     ]
    }
   ],
   "source": [
    "for i in range(10,0,-2):\n",
    "    print(i,end=\" \")"
   ]
  },
  {
   "cell_type": "code",
   "execution_count": 32,
   "id": "b47f21e7",
   "metadata": {},
   "outputs": [
    {
     "name": "stdout",
     "output_type": "stream",
     "text": [
      "10 9 8 7 6 5 4 3 2 1 "
     ]
    }
   ],
   "source": [
    "for i in range(10,0,-1):\n",
    "    print(i,end=\" \")"
   ]
  },
  {
   "cell_type": "code",
   "execution_count": 33,
   "id": "960547d7",
   "metadata": {},
   "outputs": [
    {
     "name": "stdout",
     "output_type": "stream",
     "text": [
      "1\n",
      "5\n",
      "2\n",
      "8\n",
      "10\n"
     ]
    }
   ],
   "source": [
    "list=[1,5,2,8,10]\n",
    "for j in list:\n",
    "    print(j)"
   ]
  },
  {
   "cell_type": "code",
   "execution_count": null,
   "id": "de632399",
   "metadata": {},
   "outputs": [],
   "source": []
  }
 ],
 "metadata": {
  "kernelspec": {
   "display_name": "Python 3",
   "language": "python",
   "name": "python3"
  },
  "language_info": {
   "codemirror_mode": {
    "name": "ipython",
    "version": 3
   },
   "file_extension": ".py",
   "mimetype": "text/x-python",
   "name": "python",
   "nbconvert_exporter": "python",
   "pygments_lexer": "ipython3",
   "version": "3.8.8"
  }
 },
 "nbformat": 4,
 "nbformat_minor": 5
}
