{
 "cells": [
  {
   "cell_type": "code",
   "execution_count": 1,
   "id": "cad42be0",
   "metadata": {},
   "outputs": [
    {
     "name": "stdout",
     "output_type": "stream",
     "text": [
      "python10\n",
      "programming10\n",
      "may10\n",
      "202010\n"
     ]
    }
   ],
   "source": [
    "l=[\"python\",\"programming\",\"may\",\"2020\"]\n",
    "for i in l:\n",
    "    print(i+str(10))\n",
    "    "
   ]
  },
  {
   "cell_type": "code",
   "execution_count": 26,
   "id": "a933f2f0",
   "metadata": {},
   "outputs": [
    {
     "name": "stdout",
     "output_type": "stream",
     "text": [
      "0\n",
      "1\n",
      "2\n",
      "3\n",
      "4\n"
     ]
    }
   ],
   "source": [
    "for i in range(0,len(l)):\n",
    "    print(i)"
   ]
  },
  {
   "cell_type": "code",
   "execution_count": 6,
   "id": "f9b1f646",
   "metadata": {},
   "outputs": [
    {
     "name": "stdout",
     "output_type": "stream",
     "text": [
      "P y t h o n   P r o g r a m m i n g "
     ]
    }
   ],
   "source": [
    "s=\"Python Programming\" #18 including space\n",
    "for i in s:\n",
    "    print(i,end=\" \")"
   ]
  },
  {
   "cell_type": "code",
   "execution_count": 7,
   "id": "ea59a36e",
   "metadata": {},
   "outputs": [
    {
     "name": "stdout",
     "output_type": "stream",
     "text": [
      "0 1 2 3 4 5 6 7 8 9 10 11 12 13 14 15 16 17 "
     ]
    }
   ],
   "source": [
    "for i in range(0,len(s)):\n",
    "    print(i,end=\" \")"
   ]
  },
  {
   "cell_type": "code",
   "execution_count": 9,
   "id": "5faa250f",
   "metadata": {},
   "outputs": [
    {
     "name": "stdout",
     "output_type": "stream",
     "text": [
      "3 4 5 6 7 8 9 10 11 12 13 14 15 16 17 "
     ]
    }
   ],
   "source": [
    "for i in range(3,len(s)):\n",
    "    print(i,end=\" \")"
   ]
  },
  {
   "cell_type": "code",
   "execution_count": 10,
   "id": "becf91bd",
   "metadata": {},
   "outputs": [
    {
     "name": "stdout",
     "output_type": "stream",
     "text": [
      "h o n   P r o g r a m m i n g "
     ]
    }
   ],
   "source": [
    "for i in range(3,len(s)):\n",
    "    print(s[i],end=\" \")"
   ]
  },
  {
   "cell_type": "code",
   "execution_count": 13,
   "id": "5d00edb9",
   "metadata": {},
   "outputs": [
    {
     "name": "stdout",
     "output_type": "stream",
     "text": [
      "g m m g "
     ]
    }
   ],
   "source": [
    "s=\"Python Programming\" #repeats all the letters that are equal to g and m\n",
    "for i in s:\n",
    "    if i==\"g\" or i==\"m\":\n",
    "        print(i,end=\" \")"
   ]
  },
  {
   "cell_type": "code",
   "execution_count": 14,
   "id": "471a892d",
   "metadata": {},
   "outputs": [
    {
     "data": {
      "text/plain": [
       "['python', 'programming', 'may', '2020']"
      ]
     },
     "execution_count": 14,
     "metadata": {},
     "output_type": "execute_result"
    }
   ],
   "source": [
    "l"
   ]
  },
  {
   "cell_type": "code",
   "execution_count": 15,
   "id": "a8f20d44",
   "metadata": {},
   "outputs": [
    {
     "name": "stdout",
     "output_type": "stream",
     "text": [
      "may\n"
     ]
    }
   ],
   "source": [
    "for i in l:\n",
    "    if i==\"may\":\n",
    "        print(i)\n",
    "        break"
   ]
  },
  {
   "cell_type": "code",
   "execution_count": 18,
   "id": "4b649551",
   "metadata": {},
   "outputs": [
    {
     "name": "stdout",
     "output_type": "stream",
     "text": [
      "may\n"
     ]
    }
   ],
   "source": [
    "l=['python', 'programming', 'may', '2020','may'] #doesnt repeat,just to find that value is present or not\n",
    "for i in l:\n",
    "    if i==\"may\":\n",
    "        print(i)\n",
    "        break"
   ]
  },
  {
   "cell_type": "code",
   "execution_count": 19,
   "id": "1eae098f",
   "metadata": {},
   "outputs": [
    {
     "name": "stdout",
     "output_type": "stream",
     "text": [
      "break executed\n"
     ]
    }
   ],
   "source": [
    "l=['python', 'programming', 'may', '2020','may']\n",
    "for i in l:\n",
    "    if i==\"may\":\n",
    "        print(\"break executed\")\n",
    "        break"
   ]
  },
  {
   "cell_type": "code",
   "execution_count": 20,
   "id": "ea6da85d",
   "metadata": {},
   "outputs": [
    {
     "name": "stdout",
     "output_type": "stream",
     "text": [
      "['python', 'programming', 'may', '2020', 'may']\n"
     ]
    }
   ],
   "source": [
    "print(l)\n"
   ]
  },
  {
   "cell_type": "code",
   "execution_count": 22,
   "id": "94d85966",
   "metadata": {},
   "outputs": [
    {
     "name": "stdout",
     "output_type": "stream",
     "text": [
      "may\n",
      "may\n"
     ]
    }
   ],
   "source": [
    "l\n",
    "for i in l:\n",
    "    if i==\"may\":\n",
    "        print(i)"
   ]
  },
  {
   "cell_type": "code",
   "execution_count": 23,
   "id": "e731f0f1",
   "metadata": {},
   "outputs": [
    {
     "name": "stdout",
     "output_type": "stream",
     "text": [
      "may\n"
     ]
    }
   ],
   "source": [
    "for i in l:\n",
    "    if i==\"may\":\n",
    "        print(i)\n",
    "        break"
   ]
  },
  {
   "cell_type": "code",
   "execution_count": 25,
   "id": "5be90f41",
   "metadata": {},
   "outputs": [
    {
     "name": "stdout",
     "output_type": "stream",
     "text": [
      "python\n",
      "programming\n"
     ]
    }
   ],
   "source": [
    "for i in l:\n",
    "    if i==\"may\":\n",
    "        break #prints values before may\n",
    "    print(i)"
   ]
  },
  {
   "cell_type": "markdown",
   "id": "1cc277c5",
   "metadata": {},
   "source": [
    "### CONTINUE"
   ]
  },
  {
   "cell_type": "code",
   "execution_count": 28,
   "id": "c5c53f2e",
   "metadata": {},
   "outputs": [
    {
     "name": "stdout",
     "output_type": "stream",
     "text": [
      "may\n",
      "may\n",
      "\n",
      "python\n",
      "programming\n",
      "2020\n"
     ]
    }
   ],
   "source": [
    "for i in l:\n",
    "    if i==\"may\":\n",
    "        print(i)\n",
    "print()\n",
    "for i in l:\n",
    "    if i==\"may\":\n",
    "        continue\n",
    "    print(i)"
   ]
  },
  {
   "cell_type": "code",
   "execution_count": 30,
   "id": "9a84c419",
   "metadata": {},
   "outputs": [
    {
     "name": "stdout",
     "output_type": "stream",
     "text": [
      "may\n",
      "may\n",
      "\n",
      "python\n",
      "programming\n"
     ]
    }
   ],
   "source": [
    "for i in l:\n",
    "    if i==\"may\":\n",
    "        print(i)\n",
    "print() #just a line space\n",
    "for i in l:\n",
    "    if i==\"may\" or i==\"2020\":\n",
    "        continue\n",
    "    print(i)"
   ]
  },
  {
   "cell_type": "code",
   "execution_count": 36,
   "id": "0f4bdafc",
   "metadata": {},
   "outputs": [
    {
     "name": "stdout",
     "output_type": "stream",
     "text": [
      "python\n",
      "programming\n",
      "may\n",
      "2020\n",
      "\n",
      "python\n",
      "programming\n"
     ]
    }
   ],
   "source": [
    "l=['python', 'programming', 'may', '2020']\n",
    "for i in l:\n",
    "    print(i)\n",
    "print() #just a line space\n",
    "for i in l:\n",
    "    if i==\"may\" or i==\"2020\":\n",
    "        continue\n",
    "    print(i)"
   ]
  },
  {
   "cell_type": "markdown",
   "id": "08a2a049",
   "metadata": {},
   "source": [
    "### PASS"
   ]
  },
  {
   "cell_type": "code",
   "execution_count": 39,
   "id": "85bf6a5e",
   "metadata": {},
   "outputs": [
    {
     "name": "stdout",
     "output_type": "stream",
     "text": [
      "python\n",
      "programming\n",
      "2020\n",
      "\n",
      "python\n",
      "programming\n",
      "learning programming\n",
      "may\n",
      "2020\n"
     ]
    }
   ],
   "source": [
    "l=['python', 'programming', 'may', '2020']\n",
    "for i in l:\n",
    "    if i==\"may\":\n",
    "        continue\n",
    "    print(i)\n",
    "print()\n",
    "for i in l:\n",
    "    if i==\"may\":\n",
    "        print(\"learning programming\")\n",
    "        pass\n",
    "    print(i)"
   ]
  },
  {
   "cell_type": "code",
   "execution_count": null,
   "id": "1bfeb3d4",
   "metadata": {},
   "outputs": [],
   "source": []
  }
 ],
 "metadata": {
  "kernelspec": {
   "display_name": "Python 3",
   "language": "python",
   "name": "python3"
  },
  "language_info": {
   "codemirror_mode": {
    "name": "ipython",
    "version": 3
   },
   "file_extension": ".py",
   "mimetype": "text/x-python",
   "name": "python",
   "nbconvert_exporter": "python",
   "pygments_lexer": "ipython3",
   "version": "3.8.8"
  }
 },
 "nbformat": 4,
 "nbformat_minor": 5
}
