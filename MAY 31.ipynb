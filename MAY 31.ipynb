{
 "cells": [
  {
   "cell_type": "markdown",
   "id": "6dff55d5",
   "metadata": {},
   "source": [
    "## REGULAR EXPRESSIONS\n",
    "* first we have to import re\n",
    "* re.methodname(pattern/pattern variable,string/string variable)\n",
    "#### METHODS\n",
    "* search()\n",
    "* match()\n",
    "* findall()"
   ]
  },
  {
   "cell_type": "code",
   "execution_count": 9,
   "id": "8ca494a2",
   "metadata": {},
   "outputs": [
    {
     "data": {
      "text/plain": [
       "6.0"
      ]
     },
     "execution_count": 9,
     "metadata": {},
     "output_type": "execute_result"
    }
   ],
   "source": [
    "import math\n",
    "math.sqrt(36)"
   ]
  },
  {
   "cell_type": "code",
   "execution_count": 10,
   "id": "681f1e13",
   "metadata": {},
   "outputs": [
    {
     "data": {
      "text/plain": [
       "6.0"
      ]
     },
     "execution_count": 10,
     "metadata": {},
     "output_type": "execute_result"
    }
   ],
   "source": [
    "36**0.5"
   ]
  },
  {
   "cell_type": "code",
   "execution_count": 2,
   "id": "71b0f2dc",
   "metadata": {},
   "outputs": [
    {
     "data": {
      "text/plain": [
       "<re.Match object; span=(0, 1), match='A'>"
      ]
     },
     "execution_count": 2,
     "metadata": {},
     "output_type": "execute_result"
    }
   ],
   "source": [
    "import re\n",
    "re.search(\"A\",\"APSSDC\")"
   ]
  },
  {
   "cell_type": "code",
   "execution_count": 4,
   "id": "d44325c9",
   "metadata": {},
   "outputs": [
    {
     "name": "stdout",
     "output_type": "stream",
     "text": [
      "<re.Match object; span=(2, 4), match='ss'>\n",
      "None\n"
     ]
    }
   ],
   "source": [
    "import re\n",
    "print(re.search(\"ss\",\"Apssdc\"))\n",
    "print(re.search(\"Pyt\",\"APSSDC\"))"
   ]
  },
  {
   "cell_type": "code",
   "execution_count": 5,
   "id": "b6c198e1",
   "metadata": {},
   "outputs": [
    {
     "name": "stdout",
     "output_type": "stream",
     "text": [
      "APSSDC@1251\n",
      "<re.Match object; span=(6, 7), match='@'>\n"
     ]
    }
   ],
   "source": [
    "n=input()\n",
    "print(re.search(\"@\",n))"
   ]
  },
  {
   "cell_type": "code",
   "execution_count": 6,
   "id": "46a50c09",
   "metadata": {},
   "outputs": [
    {
     "name": "stdout",
     "output_type": "stream",
     "text": [
      "None\n",
      "<re.Match object; span=(0, 3), match='APS'>\n"
     ]
    }
   ],
   "source": [
    "print(re.match(\"As\",\"Apssdc\")) #check character by character\n",
    "print(re.match(\"APS\",\"APSSDC\"))"
   ]
  },
  {
   "cell_type": "code",
   "execution_count": 8,
   "id": "04a5666e",
   "metadata": {},
   "outputs": [
    {
     "name": "stdout",
     "output_type": "stream",
     "text": [
      "['ss', 'ss', 'ss', 'ss']\n"
     ]
    },
    {
     "data": {
      "text/plain": [
       "4"
      ]
     },
     "execution_count": 8,
     "metadata": {},
     "output_type": "execute_result"
    }
   ],
   "source": [
    "print(re.findall(\"ss\",\"ApssdcssDssDss\"))\n",
    "s=re.findall(\"ss\",\"ApssdcssDssDss\")\n",
    "len(s)"
   ]
  },
  {
   "cell_type": "markdown",
   "id": "7d2d0562",
   "metadata": {},
   "source": [
    "#### SYMBOLS IN re"
   ]
  },
  {
   "cell_type": "code",
   "execution_count": null,
   "id": "06e170d9",
   "metadata": {},
   "outputs": [],
   "source": []
  },
  {
   "cell_type": "code",
   "execution_count": 15,
   "id": "b1d796fd",
   "metadata": {},
   "outputs": [
    {
     "name": "stdout",
     "output_type": "stream",
     "text": [
      "<re.Match object; span=(0, 2), match='@A'>\n",
      "<re.Match object; span=(0, 2), match='AP'>\n",
      "<re.Match object; span=(0, 1), match='A'>\n",
      "None\n"
     ]
    }
   ],
   "source": [
    "# \".\" symbol\n",
    "\n",
    "print(re.search(\"..\",\"@APSSDC\"))\n",
    "print(re.search(\"..\",\"AP\"))\n",
    "print(re.search(\".\",\"A\"))\n",
    "print(re.search(\".\",\"\"))"
   ]
  },
  {
   "cell_type": "code",
   "execution_count": 18,
   "id": "41e6cf0c",
   "metadata": {},
   "outputs": [
    {
     "name": "stdout",
     "output_type": "stream",
     "text": [
      "<re.Match object; span=(0, 1), match='A'>\n",
      "<re.Match object; span=(0, 2), match='AP'>\n",
      "None\n"
     ]
    }
   ],
   "source": [
    "#\"^\" symbol\n",
    "\n",
    "print(re.search(\"^A\",\"APSSDC\"))\n",
    "print(re.search(\"^AP\",\"APSSDC\"))\n",
    "print(re.search(\"^A\",\"SAPSSDC\"))"
   ]
  },
  {
   "cell_type": "code",
   "execution_count": 19,
   "id": "92d551f3",
   "metadata": {},
   "outputs": [
    {
     "name": "stdout",
     "output_type": "stream",
     "text": [
      "<re.Match object; span=(4, 6), match='DC'>\n",
      "<re.Match object; span=(5, 6), match='C'>\n",
      "None\n",
      "None\n"
     ]
    }
   ],
   "source": [
    "# \"$\" symbol\n",
    "\n",
    "print(re.search(\"DC$\",\"APSSDC\"))\n",
    "print(re.search(\"C$\",\"APSSDC\"))\n",
    "print(re.search(\"DC$\",\"APSSDS\"))\n",
    "print(re.match(\"DC$\",\"APSSDC\"))"
   ]
  },
  {
   "cell_type": "code",
   "execution_count": 21,
   "id": "bf39879a",
   "metadata": {},
   "outputs": [
    {
     "name": "stdout",
     "output_type": "stream",
     "text": [
      "<re.Match object; span=(0, 5), match='AAAAA'>\n",
      "<re.Match object; span=(0, 0), match=''>\n",
      "None\n"
     ]
    }
   ],
   "source": [
    "# \"*\" symbol\n",
    "\n",
    "print(re.search(\"A*\",\"AAAAAPSSDC\"))\n",
    "print(re.search(\"A*\",\"PSSDC\"))\n",
    "print(re.search(\"A\",\"PSSDC\"))"
   ]
  },
  {
   "cell_type": "code",
   "execution_count": 24,
   "id": "2dda3acd",
   "metadata": {},
   "outputs": [
    {
     "name": "stdout",
     "output_type": "stream",
     "text": [
      "<re.Match object; span=(0, 7), match='AAAAAAA'>\n",
      "None\n",
      "<re.Match object; span=(0, 1), match='A'>\n"
     ]
    }
   ],
   "source": [
    "# \"+\" symbol\n",
    "\n",
    "print(re.search(\"A+\",\"AAAAAAAPSSDC\"))\n",
    "print(re.search(\"A+\",\"PSSDC\"))\n",
    "print(re.search(\"A+\",\"APSSDC\"))\n",
    "\n"
   ]
  },
  {
   "cell_type": "code",
   "execution_count": 26,
   "id": "bff5cb6d",
   "metadata": {},
   "outputs": [
    {
     "name": "stdout",
     "output_type": "stream",
     "text": [
      "<re.Match object; span=(0, 5), match='AAAAA'>\n",
      "None\n",
      "<re.Match object; span=(0, 0), match=''>\n"
     ]
    }
   ],
   "source": [
    "# {min,max}\n",
    "print(re.search(\"A{1,5}\",\"AAAAAAAPSSDC\"))\n",
    "print(re.search(\"A{1,3}\",\"PSSDC\"))\n",
    "print(re.search(\"A{0,1}\",\"PPSSDC\"))\n"
   ]
  },
  {
   "cell_type": "code",
   "execution_count": 29,
   "id": "8dd247f9",
   "metadata": {},
   "outputs": [
    {
     "name": "stdout",
     "output_type": "stream",
     "text": [
      "<re.Match object; span=(2, 3), match='S'>\n",
      "<re.Match object; span=(3, 4), match='T'>\n",
      "None\n",
      "<re.Match object; span=(0, 1), match='P'>\n",
      "None\n"
     ]
    }
   ],
   "source": [
    "#[] symbol\n",
    "\n",
    "print(re.search(\"[ST]\",\"APSSDC\"))\n",
    "print(re.search(\"[TV]\",\"PSSTDC\")) #either t or v\n",
    "print(re.search(\"TV\",\"PSSTDC\"))\n",
    "print(re.match(\"[ASP]\",\"PSSDC\"))\n",
    "print(re.match(\"ASP\",\"APSSDCTV\"))\n"
   ]
  },
  {
   "cell_type": "code",
   "execution_count": 30,
   "id": "0f48ccb0",
   "metadata": {},
   "outputs": [
    {
     "name": "stdout",
     "output_type": "stream",
     "text": [
      "<re.Match object; span=(2, 3), match='1'>\n",
      "<re.Match object; span=(3, 5), match='12'>\n",
      "<re.Match object; span=(2, 3), match='P'>\n",
      "<re.Match object; span=(0, 2), match='12'>\n",
      "None\n"
     ]
    }
   ],
   "source": [
    "# \"\\d,\\D,\\s,\\S\"\n",
    "\n",
    "print(re.search(\"\\d\",\"AA12AAAAAPSSDC\"))\n",
    "print(re.search(\"\\d\\d\",\"PSS12DC\"))\n",
    "print(re.search(\"\\D\",\"12PSSDC\"))\n",
    "print(re.match(\"\\d\\d\",\"12AAAAAAAPSSDC\"))\n",
    "print(re.match(\"\\d\\d\",\"Ss12AAAAAAAPSSDC\"))\n"
   ]
  },
  {
   "cell_type": "code",
   "execution_count": null,
   "id": "42669569",
   "metadata": {},
   "outputs": [],
   "source": []
  }
 ],
 "metadata": {
  "kernelspec": {
   "display_name": "Python 3",
   "language": "python",
   "name": "python3"
  },
  "language_info": {
   "codemirror_mode": {
    "name": "ipython",
    "version": 3
   },
   "file_extension": ".py",
   "mimetype": "text/x-python",
   "name": "python",
   "nbconvert_exporter": "python",
   "pygments_lexer": "ipython3",
   "version": "3.8.8"
  }
 },
 "nbformat": 4,
 "nbformat_minor": 5
}
