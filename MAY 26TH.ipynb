{
 "cells": [
  {
   "cell_type": "markdown",
   "id": "6962ef88",
   "metadata": {},
   "source": [
    "## DATA STRUCTURE\n",
    "#USED TO STORE A COLLECTION OF RELATED DATA\n",
    "#WE HAVE 4 BUILT-IN DATA STRUCTURES IN PYTHON\n",
    "#LIST,TUPLE,DICTIONARY,SET"
   ]
  },
  {
   "cell_type": "markdown",
   "id": "768d7886",
   "metadata": {},
   "source": [
    "## LIST"
   ]
  },
  {
   "cell_type": "markdown",
   "id": "392e9416",
   "metadata": {},
   "source": [
    "##### it is a collection of different data types\n",
    "##### it is mutable\n",
    "##### allow duplicate numbers\n",
    "##### lists represents with square brackets"
   ]
  },
  {
   "cell_type": "code",
   "execution_count": 7,
   "id": "9dc9a242",
   "metadata": {},
   "outputs": [
    {
     "name": "stdout",
     "output_type": "stream",
     "text": [
      "['spmvv', 12, 23, 30.8, 'apssdc', 20]\n"
     ]
    }
   ],
   "source": [
    "lst=['spmvv',12,23,30.8,'apssdc',20]\n",
    "print(lst)"
   ]
  },
  {
   "cell_type": "code",
   "execution_count": 3,
   "id": "0c6830e8",
   "metadata": {},
   "outputs": [
    {
     "data": {
      "text/plain": [
       "'spmvv'"
      ]
     },
     "execution_count": 3,
     "metadata": {},
     "output_type": "execute_result"
    }
   ],
   "source": [
    "lst[0]"
   ]
  },
  {
   "cell_type": "code",
   "execution_count": 8,
   "id": "3607899e",
   "metadata": {},
   "outputs": [
    {
     "data": {
      "text/plain": [
       "['spmvv', 12, 23, 30.8, 'apssdc', 20]"
      ]
     },
     "execution_count": 8,
     "metadata": {},
     "output_type": "execute_result"
    }
   ],
   "source": [
    "lst[0:6]"
   ]
  },
  {
   "cell_type": "code",
   "execution_count": 9,
   "id": "e37423b5",
   "metadata": {},
   "outputs": [
    {
     "data": {
      "text/plain": [
       "['spmvv', 12, 23, 30.8, 'apssdc']"
      ]
     },
     "execution_count": 9,
     "metadata": {},
     "output_type": "execute_result"
    }
   ],
   "source": [
    "lst[0:5]"
   ]
  },
  {
   "cell_type": "code",
   "execution_count": 19,
   "id": "265fbae2",
   "metadata": {},
   "outputs": [
    {
     "name": "stdout",
     "output_type": "stream",
     "text": [
      "['spmvv', 23, 'apssdc']\n"
     ]
    }
   ],
   "source": [
    "print(lst[0:6:2])"
   ]
  },
  {
   "cell_type": "code",
   "execution_count": 20,
   "id": "8f0ea645",
   "metadata": {},
   "outputs": [
    {
     "name": "stdout",
     "output_type": "stream",
     "text": [
      "[12, 30.8, 20]\n"
     ]
    }
   ],
   "source": [
    "print(lst[1:7:2])"
   ]
  },
  {
   "cell_type": "code",
   "execution_count": 21,
   "id": "04962f91",
   "metadata": {},
   "outputs": [
    {
     "name": "stdout",
     "output_type": "stream",
     "text": [
      "[12, 30.8, 20]\n"
     ]
    }
   ],
   "source": [
    "print(lst[1:6:2])"
   ]
  },
  {
   "cell_type": "code",
   "execution_count": 23,
   "id": "ebbd02ab",
   "metadata": {},
   "outputs": [
    {
     "name": "stdout",
     "output_type": "stream",
     "text": [
      "[12, 23]\n"
     ]
    }
   ],
   "source": [
    "print(lst[1:3])"
   ]
  },
  {
   "cell_type": "code",
   "execution_count": 10,
   "id": "ac8542d5",
   "metadata": {},
   "outputs": [
    {
     "name": "stdout",
     "output_type": "stream",
     "text": [
      "['cse', 5.8, 14, 18, [13, 15.3, 'ece'], 'mech', 9.0]\n"
     ]
    }
   ],
   "source": [
    "lst2=['cse',5.8,14,18,[13,15.3,'ece'],'mech',9.0]\n",
    "print(lst2)"
   ]
  },
  {
   "cell_type": "code",
   "execution_count": 11,
   "id": "84f75da4",
   "metadata": {},
   "outputs": [
    {
     "name": "stdout",
     "output_type": "stream",
     "text": [
      "7\n"
     ]
    }
   ],
   "source": [
    "print(len(lst2))"
   ]
  },
  {
   "cell_type": "code",
   "execution_count": 12,
   "id": "f4bd9ea9",
   "metadata": {},
   "outputs": [
    {
     "data": {
      "text/plain": [
       "[13, 15.3, 'ece']"
      ]
     },
     "execution_count": 12,
     "metadata": {},
     "output_type": "execute_result"
    }
   ],
   "source": [
    "lst2[4]"
   ]
  },
  {
   "cell_type": "code",
   "execution_count": 17,
   "id": "7b5c62c4",
   "metadata": {},
   "outputs": [
    {
     "data": {
      "text/plain": [
       "15.3"
      ]
     },
     "execution_count": 17,
     "metadata": {},
     "output_type": "execute_result"
    }
   ],
   "source": [
    "lst2[4][1]"
   ]
  },
  {
   "cell_type": "code",
   "execution_count": 24,
   "id": "07119eaa",
   "metadata": {},
   "outputs": [
    {
     "name": "stdout",
     "output_type": "stream",
     "text": [
      "5\n"
     ]
    }
   ],
   "source": [
    "lst=[1,2,[3,4,5,[6,7,8,9],10,'cse'],9.8,13]\n",
    "print(len(lst))"
   ]
  },
  {
   "cell_type": "code",
   "execution_count": 26,
   "id": "b8503112",
   "metadata": {},
   "outputs": [
    {
     "data": {
      "text/plain": [
       "[[3, 4, 5, [6, 7, 8, 9], 10, 'cse'], 9.8, 13]"
      ]
     },
     "execution_count": 26,
     "metadata": {},
     "output_type": "execute_result"
    }
   ],
   "source": [
    "lst[2:5]"
   ]
  },
  {
   "cell_type": "code",
   "execution_count": 27,
   "id": "d449a353",
   "metadata": {},
   "outputs": [
    {
     "data": {
      "text/plain": [
       "[3, 4, 5, [6, 7, 8, 9], 10, 'cse']"
      ]
     },
     "execution_count": 27,
     "metadata": {},
     "output_type": "execute_result"
    }
   ],
   "source": [
    "lst[2]"
   ]
  },
  {
   "cell_type": "code",
   "execution_count": 30,
   "id": "2a02ebb7",
   "metadata": {},
   "outputs": [
    {
     "data": {
      "text/plain": [
       "[6, 7, 8, 9]"
      ]
     },
     "execution_count": 30,
     "metadata": {},
     "output_type": "execute_result"
    }
   ],
   "source": [
    "lst[2][3]"
   ]
  },
  {
   "cell_type": "code",
   "execution_count": 31,
   "id": "f06decea",
   "metadata": {},
   "outputs": [
    {
     "data": {
      "text/plain": [
       "9"
      ]
     },
     "execution_count": 31,
     "metadata": {},
     "output_type": "execute_result"
    }
   ],
   "source": [
    "lst[2][3][3]"
   ]
  },
  {
   "cell_type": "code",
   "execution_count": 32,
   "id": "e375e155",
   "metadata": {},
   "outputs": [
    {
     "data": {
      "text/plain": [
       "'cse'"
      ]
     },
     "execution_count": 32,
     "metadata": {},
     "output_type": "execute_result"
    }
   ],
   "source": [
    "lst[2][5]"
   ]
  },
  {
   "cell_type": "code",
   "execution_count": 33,
   "id": "a3e40a8f",
   "metadata": {},
   "outputs": [
    {
     "name": "stdout",
     "output_type": "stream",
     "text": [
      "['__add__', '__class__', '__contains__', '__delattr__', '__delitem__', '__dir__', '__doc__', '__eq__', '__format__', '__ge__', '__getattribute__', '__getitem__', '__gt__', '__hash__', '__iadd__', '__imul__', '__init__', '__init_subclass__', '__iter__', '__le__', '__len__', '__lt__', '__mul__', '__ne__', '__new__', '__reduce__', '__reduce_ex__', '__repr__', '__reversed__', '__rmul__', '__setattr__', '__setitem__', '__sizeof__', '__str__', '__subclasshook__', 'append', 'clear', 'copy', 'count', 'extend', 'index', 'insert', 'pop', 'remove', 'reverse', 'sort']\n"
     ]
    }
   ],
   "source": [
    "print(dir(lst))"
   ]
  },
  {
   "cell_type": "code",
   "execution_count": 34,
   "id": "6149af78",
   "metadata": {},
   "outputs": [
    {
     "name": "stdout",
     "output_type": "stream",
     "text": [
      "46\n"
     ]
    }
   ],
   "source": [
    "print(len(dir(lst)))"
   ]
  },
  {
   "cell_type": "markdown",
   "id": "1277b337",
   "metadata": {},
   "source": [
    "#### APPEND"
   ]
  },
  {
   "cell_type": "code",
   "execution_count": 37,
   "id": "90363925",
   "metadata": {},
   "outputs": [
    {
     "name": "stdout",
     "output_type": "stream",
     "text": [
      "[2, 7, 'cse', 9.0, 'mech', 8.5, 13, 17]\n"
     ]
    }
   ],
   "source": [
    "lst=[2,7,'cse',9.0,'civil',8.5,13,17] \n",
    "lst[4]='mech'  #list is mutable\n",
    "print(lst)"
   ]
  },
  {
   "cell_type": "code",
   "execution_count": 40,
   "id": "8b1d5b59",
   "metadata": {},
   "outputs": [
    {
     "name": "stdout",
     "output_type": "stream",
     "text": [
      "[2, 7, 'cse', 9.0, 'mech', 8.5, 13, 17, 'civil', 'civil']\n"
     ]
    }
   ],
   "source": [
    "lst.append('civil') #defaultly adds at end of the list\n",
    "print(lst)"
   ]
  },
  {
   "cell_type": "code",
   "execution_count": 43,
   "id": "bba423ab",
   "metadata": {},
   "outputs": [
    {
     "data": {
      "text/plain": [
       "[20, 'apssdc', 30.8, 23, 12, 'spmvv']"
      ]
     },
     "execution_count": 43,
     "metadata": {},
     "output_type": "execute_result"
    }
   ],
   "source": [
    "lst=['spmvv',12,23,30.8,'apssdc',20]\n",
    "lst[-1::-1]"
   ]
  },
  {
   "cell_type": "code",
   "execution_count": 45,
   "id": "70060784",
   "metadata": {},
   "outputs": [
    {
     "data": {
      "text/plain": [
       "[20, 'apssdc', 30.8, 23, 12, 'spmvv']"
      ]
     },
     "execution_count": 45,
     "metadata": {},
     "output_type": "execute_result"
    }
   ],
   "source": [
    "lst=['spmvv',12,23,30.8,'apssdc',20]\n",
    "lst[-1:-7:-1]"
   ]
  },
  {
   "cell_type": "code",
   "execution_count": 48,
   "id": "d4e18bde",
   "metadata": {},
   "outputs": [
    {
     "data": {
      "text/plain": [
       "[30.8, 23, 12]"
      ]
     },
     "execution_count": 48,
     "metadata": {},
     "output_type": "execute_result"
    }
   ],
   "source": [
    "lst[-3:-6:-1]"
   ]
  },
  {
   "cell_type": "code",
   "execution_count": 49,
   "id": "06a06122",
   "metadata": {},
   "outputs": [
    {
     "data": {
      "text/plain": [
       "['cse', 5.8, 14, 18, [13, 15.3, 'ece'], 'mech', 9.0]"
      ]
     },
     "execution_count": 49,
     "metadata": {},
     "output_type": "execute_result"
    }
   ],
   "source": [
    "lst2"
   ]
  },
  {
   "cell_type": "code",
   "execution_count": 50,
   "id": "f1e64a31",
   "metadata": {},
   "outputs": [
    {
     "data": {
      "text/plain": [
       "[9.0, 'mech', [13, 15.3, 'ece'], 18, 14, 5.8, 'cse']"
      ]
     },
     "execution_count": 50,
     "metadata": {},
     "output_type": "execute_result"
    }
   ],
   "source": [
    "lst2[-1:-8:-1]"
   ]
  },
  {
   "cell_type": "code",
   "execution_count": 52,
   "id": "14de30ec",
   "metadata": {},
   "outputs": [
    {
     "data": {
      "text/plain": [
       "[[13, 15.3, 'ece']]"
      ]
     },
     "execution_count": 52,
     "metadata": {},
     "output_type": "execute_result"
    }
   ],
   "source": [
    "lst2[-3:-4:-1]"
   ]
  },
  {
   "cell_type": "code",
   "execution_count": 60,
   "id": "410f8a27",
   "metadata": {},
   "outputs": [
    {
     "data": {
      "text/plain": [
       "['ece', 15.3, 13]"
      ]
     },
     "execution_count": 60,
     "metadata": {},
     "output_type": "execute_result"
    }
   ],
   "source": [
    "lst2[-3][-1::-1]"
   ]
  },
  {
   "cell_type": "markdown",
   "id": "f56b26f5",
   "metadata": {},
   "source": [
    "#### COPY"
   ]
  },
  {
   "cell_type": "code",
   "execution_count": 61,
   "id": "390f0be1",
   "metadata": {},
   "outputs": [
    {
     "name": "stdout",
     "output_type": "stream",
     "text": [
      "list2= ['spmvv', 12, 23, 30.8, 'apssdc', 20]\n",
      "list1= ['spmvv', 12, 23, 30.8, 'apssdc', 20]\n"
     ]
    }
   ],
   "source": [
    "lst2=lst.copy()\n",
    "print(\"list2=\",lst2)\n",
    "print(\"list1=\",lst)"
   ]
  },
  {
   "cell_type": "code",
   "execution_count": 69,
   "id": "6d879555",
   "metadata": {},
   "outputs": [
    {
     "name": "stdout",
     "output_type": "stream",
     "text": [
      "[2, 7, 'cse', 9.0, 'civil', 8.5, 13, 17, 'civil', 'cse']\n"
     ]
    }
   ],
   "source": [
    "lst=[2,7,'cse',9.0,'civil',8.5,13,17,'civil']\n",
    "lst.append('cse')\n",
    "print(lst)"
   ]
  },
  {
   "cell_type": "code",
   "execution_count": 63,
   "id": "c8dfb216",
   "metadata": {},
   "outputs": [
    {
     "data": {
      "text/plain": [
       "2"
      ]
     },
     "execution_count": 63,
     "metadata": {},
     "output_type": "execute_result"
    }
   ],
   "source": [
    "lst.count(\"cse\")"
   ]
  },
  {
   "cell_type": "code",
   "execution_count": 64,
   "id": "9494849f",
   "metadata": {},
   "outputs": [
    {
     "data": {
      "text/plain": [
       "0"
      ]
     },
     "execution_count": 64,
     "metadata": {},
     "output_type": "execute_result"
    }
   ],
   "source": [
    "lst.count(\"aeronautical\")"
   ]
  },
  {
   "cell_type": "code",
   "execution_count": 65,
   "id": "07616d8e",
   "metadata": {},
   "outputs": [
    {
     "data": {
      "text/plain": [
       "1"
      ]
     },
     "execution_count": 65,
     "metadata": {},
     "output_type": "execute_result"
    }
   ],
   "source": [
    "lst.count(9)"
   ]
  },
  {
   "cell_type": "code",
   "execution_count": 66,
   "id": "faa0fac8",
   "metadata": {},
   "outputs": [
    {
     "data": {
      "text/plain": [
       "1"
      ]
     },
     "execution_count": 66,
     "metadata": {},
     "output_type": "execute_result"
    }
   ],
   "source": [
    "lst.count(7)"
   ]
  },
  {
   "cell_type": "markdown",
   "id": "1c77e5c7",
   "metadata": {},
   "source": [
    "#### EXTEND"
   ]
  },
  {
   "cell_type": "code",
   "execution_count": 74,
   "id": "f61ca9ff",
   "metadata": {},
   "outputs": [
    {
     "name": "stdout",
     "output_type": "stream",
     "text": [
      "[2, 7, 'cse', 9.0, 'civil', 8.5, 13, 17, 'civil', 'cse', 'a', 'b']\n"
     ]
    }
   ],
   "source": [
    "lst.extend(['a','b'])\n",
    "print(lst)"
   ]
  },
  {
   "cell_type": "code",
   "execution_count": 84,
   "id": "a4841c84",
   "metadata": {},
   "outputs": [
    {
     "name": "stdout",
     "output_type": "stream",
     "text": [
      "[2, 7, 'cse', 9.0, 'civil', 8.5, 13, 17, 'civil', 'cse', 'a', 'b', [1, 2, 3]]\n"
     ]
    }
   ],
   "source": [
    "lst=[2, 7, 'cse', 9.0, 'civil', 8.5, 13, 17, 'civil', 'cse', 'a', 'b']\n",
    "lst.append([1,2,3])\n",
    "print(lst)"
   ]
  },
  {
   "cell_type": "markdown",
   "id": "5d958b41",
   "metadata": {},
   "source": [
    "#### INDEX"
   ]
  },
  {
   "cell_type": "code",
   "execution_count": 85,
   "id": "7821d95a",
   "metadata": {},
   "outputs": [
    {
     "data": {
      "text/plain": [
       "4"
      ]
     },
     "execution_count": 85,
     "metadata": {},
     "output_type": "execute_result"
    }
   ],
   "source": [
    "lst.index(\"civil\")"
   ]
  },
  {
   "cell_type": "code",
   "execution_count": 86,
   "id": "0b75039b",
   "metadata": {},
   "outputs": [
    {
     "data": {
      "text/plain": [
       "10"
      ]
     },
     "execution_count": 86,
     "metadata": {},
     "output_type": "execute_result"
    }
   ],
   "source": [
    "lst.index('a')"
   ]
  },
  {
   "cell_type": "code",
   "execution_count": 80,
   "id": "a550232a",
   "metadata": {},
   "outputs": [
    {
     "name": "stdout",
     "output_type": "stream",
     "text": [
      "0\n",
      "1\n",
      "2\n",
      "3\n",
      "4\n",
      "5\n",
      "6\n",
      "7\n",
      "8\n",
      "9\n",
      "10\n",
      "11\n",
      "12\n",
      "13\n"
     ]
    }
   ],
   "source": [
    "for i in range(len(lst)):\n",
    "    print(i)"
   ]
  },
  {
   "cell_type": "code",
   "execution_count": 87,
   "id": "305edf7f",
   "metadata": {},
   "outputs": [
    {
     "name": "stdout",
     "output_type": "stream",
     "text": [
      "0 = 2\n",
      "1 = 7\n",
      "2 = cse\n",
      "3 = 9.0\n",
      "4 = civil\n",
      "5 = 8.5\n",
      "6 = 13\n",
      "7 = 17\n",
      "8 = civil\n",
      "9 = cse\n",
      "10 = a\n",
      "11 = b\n",
      "12 = [1, 2, 3]\n"
     ]
    }
   ],
   "source": [
    "for i in range(len(lst)):\n",
    "    print(i,\"=\",lst[i])"
   ]
  },
  {
   "cell_type": "code",
   "execution_count": 89,
   "id": "d346d74b",
   "metadata": {},
   "outputs": [
    {
     "name": "stdout",
     "output_type": "stream",
     "text": [
      "2\n",
      "9\n"
     ]
    }
   ],
   "source": [
    "for i in range(len(lst)):\n",
    "    if(lst[i]=='cse'):\n",
    "        print(i)"
   ]
  },
  {
   "cell_type": "code",
   "execution_count": 90,
   "id": "3607daaf",
   "metadata": {},
   "outputs": [
    {
     "name": "stdout",
     "output_type": "stream",
     "text": [
      "10\n"
     ]
    }
   ],
   "source": [
    "for i in range(len(lst)):\n",
    "    if(lst[i]=='a'):\n",
    "        print(i)\n",
    "        "
   ]
  },
  {
   "cell_type": "code",
   "execution_count": null,
   "id": "b14573cc",
   "metadata": {},
   "outputs": [],
   "source": []
  }
 ],
 "metadata": {
  "kernelspec": {
   "display_name": "Python 3",
   "language": "python",
   "name": "python3"
  },
  "language_info": {
   "codemirror_mode": {
    "name": "ipython",
    "version": 3
   },
   "file_extension": ".py",
   "mimetype": "text/x-python",
   "name": "python",
   "nbconvert_exporter": "python",
   "pygments_lexer": "ipython3",
   "version": "3.8.8"
  }
 },
 "nbformat": 4,
 "nbformat_minor": 5
}
