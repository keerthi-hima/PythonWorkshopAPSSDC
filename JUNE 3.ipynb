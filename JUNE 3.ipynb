{
 "cells": [
  {
   "cell_type": "code",
   "execution_count": 3,
   "id": "81852eac",
   "metadata": {},
   "outputs": [
    {
     "name": "stdout",
     "output_type": "stream",
     "text": [
      "a= 1\n",
      "b= (2, 3, 4, 5)\n"
     ]
    }
   ],
   "source": [
    "def add(a,*b):\n",
    "    print(\"a=\",a)\n",
    "    print(\"b=\",b)\n",
    "    \n",
    "add(1,2,3,4,5)"
   ]
  },
  {
   "cell_type": "code",
   "execution_count": 6,
   "id": "f4945814",
   "metadata": {},
   "outputs": [
    {
     "name": "stdout",
     "output_type": "stream",
     "text": [
      "a= 1\n",
      "b= (2, 3, 4, 5)\n"
     ]
    }
   ],
   "source": [
    "def add(a,*b):\n",
    "    print(\"a=\",a)\n",
    "    print(\"b=\",b)\n",
    "    \n",
    "    \n",
    "add(1,2,3,4,5)"
   ]
  },
  {
   "cell_type": "code",
   "execution_count": 7,
   "id": "f935be2d",
   "metadata": {},
   "outputs": [
    {
     "name": "stdout",
     "output_type": "stream",
     "text": [
      "15\n"
     ]
    }
   ],
   "source": [
    "def add(a,*b):\n",
    "    summation = a\n",
    "    for i in b:\n",
    "        summation += i\n",
    "    print(summation)\n",
    "add(1,2,3,4,5)"
   ]
  },
  {
   "cell_type": "markdown",
   "id": "8de11286",
   "metadata": {},
   "source": [
    "### OBJECT ORIENTED PROGRAMMING\n",
    "* OOPs allows decomposition of a problem into a number of units called objects.\n",
    "* Python is an object oriented programming language\n",
    "\n",
    "#### WHY TO USE OOP?\n",
    "* Provides a clear program structure.\n",
    "* It makes the development and maintanence easier.\n",
    "* Code resuability\n",
    "\n",
    "#### CLASS\n",
    "* Class is a collection of variables and methods.\n",
    "    \n",
    "  syntax:     class classname:\n",
    "                   list of variables\n",
    "                   list of methods\n",
    "               \n",
    "#### OBJECT\n",
    "* Collection of data and methods\n",
    "* Instance of a class\n",
    "\n",
    "  syntax:     "
   ]
  },
  {
   "cell_type": "code",
   "execution_count": 8,
   "id": "6aa9a38d",
   "metadata": {},
   "outputs": [
    {
     "name": "stdout",
     "output_type": "stream",
     "text": [
      "10\n",
      "20\n",
      "Hi,I am from display function\n",
      "None\n"
     ]
    }
   ],
   "source": [
    "class Hi:\n",
    "    a,b = 10,20\n",
    "    def disply():\n",
    "        print(\"Hi,I am from display function\")\n",
    "        \n",
    "obj = Hi\n",
    "print(obj.a)\n",
    "print(obj.b)\n",
    "print(obj.disply())"
   ]
  },
  {
   "cell_type": "code",
   "execution_count": 9,
   "id": "d2c618c0",
   "metadata": {},
   "outputs": [
    {
     "name": "stdout",
     "output_type": "stream",
     "text": [
      "10\n",
      "20\n",
      "Hi,I am from display function\n",
      "9\n"
     ]
    }
   ],
   "source": [
    "class Hi:\n",
    "    a,b = 10,20\n",
    "    def disply():\n",
    "        print(\"Hi,I am from display function\")\n",
    "        return 9\n",
    "        \n",
    "obj = Hi\n",
    "print(obj.a)\n",
    "print(obj.b)\n",
    "print(obj.disply())"
   ]
  },
  {
   "cell_type": "code",
   "execution_count": 12,
   "id": "3224f03d",
   "metadata": {},
   "outputs": [
    {
     "name": "stdout",
     "output_type": "stream",
     "text": [
      "25\n",
      "6\n"
     ]
    }
   ],
   "source": [
    "class Math:\n",
    "    def add(n1,n2):\n",
    "        return n1+n2\n",
    "    def mul(n1,n2):\n",
    "        return n1*n2\n",
    "    \n",
    "obj = Math\n",
    "print(obj.add(12,13))\n",
    "print(obj.mul(2,3))"
   ]
  },
  {
   "cell_type": "markdown",
   "id": "cf4935de",
   "metadata": {},
   "source": [
    "### CONSTRUCTOR\n",
    "* Its task is to initialize to teh data members of a class when an object of a class is created.\n",
    "  syntax:\n",
    "            class classname:\n",
    "                def __init__(self): it is a constructor\n",
    "                def __init__(self,a,b):\n",
    "                def __init__(a,b,self):"
   ]
  },
  {
   "cell_type": "markdown",
   "id": "6d2cc94b",
   "metadata": {},
   "source": [
    "##### Self parameter\n",
    "* It is a reference to the current instance of the class,and is used to access variables that belongs to the class. "
   ]
  },
  {
   "cell_type": "code",
   "execution_count": 13,
   "id": "ccd1b2c2",
   "metadata": {},
   "outputs": [
    {
     "name": "stdout",
     "output_type": "stream",
     "text": [
      "2\n",
      "5\n"
     ]
    }
   ],
   "source": [
    "class Math:\n",
    "    def __init__(self,n1,n2):\n",
    "        self.n1 = n1\n",
    "        self.n2 = n2\n",
    "    def show(self):\n",
    "        print(self.n1)\n",
    "        print(self.n2)\n",
    "        \n",
    "obj = Math(2,5)\n",
    "obj.show()"
   ]
  },
  {
   "cell_type": "code",
   "execution_count": 14,
   "id": "c8347b33",
   "metadata": {},
   "outputs": [
    {
     "name": "stdout",
     "output_type": "stream",
     "text": [
      "<class '__main__.MyClass'>\n"
     ]
    }
   ],
   "source": [
    "class MyClass:\n",
    "    x = 5\n",
    "print(MyClass)"
   ]
  },
  {
   "cell_type": "code",
   "execution_count": 16,
   "id": "c19c4f70",
   "metadata": {},
   "outputs": [
    {
     "name": "stdout",
     "output_type": "stream",
     "text": [
      "2\n",
      "5\n"
     ]
    }
   ],
   "source": [
    "class Math:\n",
    "    def __init__(abc,n1,n2):\n",
    "        abc.n1 = n1\n",
    "        abc.n2 = n2\n",
    "    def show(abc):\n",
    "        print(abc.n1)\n",
    "        print(abc.n2)\n",
    "        \n",
    "obj = Math(2,5)\n",
    "obj.show()"
   ]
  },
  {
   "cell_type": "markdown",
   "id": "6f0793d2",
   "metadata": {},
   "source": [
    "### INHERITANCE\n",
    "###### 1.Single inheritance:- one child and one parent class."
   ]
  },
  {
   "cell_type": "code",
   "execution_count": 18,
   "id": "48c4d07c",
   "metadata": {},
   "outputs": [
    {
     "name": "stdout",
     "output_type": "stream",
     "text": [
      "I am from class A\n",
      "None\n"
     ]
    },
    {
     "data": {
      "text/plain": [
       "13"
      ]
     },
     "execution_count": 18,
     "metadata": {},
     "output_type": "execute_result"
    }
   ],
   "source": [
    "class A:\n",
    "    a,b = 10,20\n",
    "    def display():\n",
    "        print('I am from class A')\n",
    "class B(A):\n",
    "    c,d = 13,15\n",
    "    def show():\n",
    "        print('I am from class B')\n",
    "\n",
    "obj = B\n",
    "obj.b\n",
    "print(obj.display())\n",
    "obj.c"
   ]
  },
  {
   "cell_type": "markdown",
   "id": "a9ce2f85",
   "metadata": {},
   "source": [
    "###### 2.Multilevel inheritance:-One or more parent classes and one or more child classes."
   ]
  },
  {
   "cell_type": "code",
   "execution_count": 21,
   "id": "ce7961e5",
   "metadata": {},
   "outputs": [
    {
     "name": "stdout",
     "output_type": "stream",
     "text": [
      "I am from classA\n",
      "None\n",
      "I am from classB\n",
      "None\n"
     ]
    }
   ],
   "source": [
    "class A:\n",
    "    def classA():\n",
    "        print(\"I am from classA\")\n",
    "class B(A):\n",
    "    def classB():\n",
    "        print(\"I am from classB\")\n",
    "\n",
    "class C(B):\n",
    "    def classB():\n",
    "        print(\"I am from classB\")\n",
    "\n",
    "obj = C\n",
    "print(obj.classA())\n",
    "print(obj.classB())"
   ]
  },
  {
   "cell_type": "markdown",
   "id": "07efe50a",
   "metadata": {},
   "source": [
    "###### 3.Multiple inheritance:-More than one parent class and one child class."
   ]
  },
  {
   "cell_type": "code",
   "execution_count": 22,
   "id": "205811e2",
   "metadata": {},
   "outputs": [
    {
     "ename": "TypeError",
     "evalue": "Cannot create a consistent method resolution\norder (MRO) for bases A, B, C",
     "output_type": "error",
     "traceback": [
      "\u001b[1;31m---------------------------------------------------------------------------\u001b[0m",
      "\u001b[1;31mTypeError\u001b[0m                                 Traceback (most recent call last)",
      "\u001b[1;32m<ipython-input-22-39757250ac2d>\u001b[0m in \u001b[0;36m<module>\u001b[1;34m\u001b[0m\n\u001b[0;32m      9\u001b[0m     \u001b[1;32mdef\u001b[0m \u001b[0mclassB\u001b[0m\u001b[1;33m(\u001b[0m\u001b[1;33m)\u001b[0m\u001b[1;33m:\u001b[0m\u001b[1;33m\u001b[0m\u001b[1;33m\u001b[0m\u001b[0m\n\u001b[0;32m     10\u001b[0m         \u001b[0mprint\u001b[0m\u001b[1;33m(\u001b[0m\u001b[1;34m\"I am from classB\"\u001b[0m\u001b[1;33m)\u001b[0m\u001b[1;33m\u001b[0m\u001b[1;33m\u001b[0m\u001b[0m\n\u001b[1;32m---> 11\u001b[1;33m \u001b[1;32mclass\u001b[0m \u001b[0mD\u001b[0m\u001b[1;33m(\u001b[0m\u001b[0mA\u001b[0m\u001b[1;33m,\u001b[0m\u001b[0mB\u001b[0m\u001b[1;33m,\u001b[0m\u001b[0mC\u001b[0m\u001b[1;33m)\u001b[0m\u001b[1;33m:\u001b[0m\u001b[1;33m\u001b[0m\u001b[1;33m\u001b[0m\u001b[0m\n\u001b[0m\u001b[0;32m     12\u001b[0m     \u001b[1;32mdef\u001b[0m \u001b[0mclassC\u001b[0m\u001b[1;33m(\u001b[0m\u001b[1;33m)\u001b[0m\u001b[1;33m:\u001b[0m\u001b[1;33m\u001b[0m\u001b[1;33m\u001b[0m\u001b[0m\n\u001b[0;32m     13\u001b[0m         \u001b[0mprint\u001b[0m\u001b[1;33m(\u001b[0m\u001b[1;34m\"I am from classC\"\u001b[0m\u001b[1;33m)\u001b[0m\u001b[1;33m\u001b[0m\u001b[1;33m\u001b[0m\u001b[0m\n",
      "\u001b[1;31mTypeError\u001b[0m: Cannot create a consistent method resolution\norder (MRO) for bases A, B, C"
     ]
    }
   ],
   "source": [
    "class A:\n",
    "    def classA():\n",
    "        print(\"I am from classA\")\n",
    "class B(A):\n",
    "    def classB():\n",
    "        print(\"I am from classB\")\n",
    "\n",
    "class C(B):\n",
    "    def classB():\n",
    "        print(\"I am from classB\")\n",
    "class D(A,B,C):\n",
    "    def classC():\n",
    "        print(\"I am from classC\")\n",
    "obj = D\n",
    "print(obj.classA())\n",
    "print(obj.classC())"
   ]
  },
  {
   "cell_type": "code",
   "execution_count": null,
   "id": "490e5b99",
   "metadata": {},
   "outputs": [],
   "source": []
  }
 ],
 "metadata": {
  "kernelspec": {
   "display_name": "Python 3",
   "language": "python",
   "name": "python3"
  },
  "language_info": {
   "codemirror_mode": {
    "name": "ipython",
    "version": 3
   },
   "file_extension": ".py",
   "mimetype": "text/x-python",
   "name": "python",
   "nbconvert_exporter": "python",
   "pygments_lexer": "ipython3",
   "version": "3.8.8"
  }
 },
 "nbformat": 4,
 "nbformat_minor": 5
}
