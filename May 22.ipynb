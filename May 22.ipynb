{
 "cells": [
  {
   "cell_type": "code",
   "execution_count": 1,
   "id": "93ae49d2",
   "metadata": {},
   "outputs": [],
   "source": [
    "l=[1,2,3,4,5,6,4,5,6]"
   ]
  },
  {
   "cell_type": "code",
   "execution_count": 2,
   "id": "71f6f654",
   "metadata": {},
   "outputs": [
    {
     "name": "stdout",
     "output_type": "stream",
     "text": [
      "number 4 is present\n",
      "number 4 is present\n"
     ]
    }
   ],
   "source": [
    "for i in l:\n",
    "    if i==4:\n",
    "        print(\"number 4 is present\")"
   ]
  },
  {
   "cell_type": "code",
   "execution_count": 3,
   "id": "76c91d00",
   "metadata": {},
   "outputs": [
    {
     "name": "stdout",
     "output_type": "stream",
     "text": [
      "number 4 is present\n"
     ]
    }
   ],
   "source": [
    "for i in l:\n",
    "    if i==4:\n",
    "        print(\"number 4 is present\")\n",
    "        break"
   ]
  },
  {
   "cell_type": "code",
   "execution_count": 4,
   "id": "01b606ce",
   "metadata": {},
   "outputs": [
    {
     "name": "stdout",
     "output_type": "stream",
     "text": [
      "1\n",
      "2\n",
      "3\n",
      "5\n",
      "6\n",
      "5\n",
      "6\n"
     ]
    }
   ],
   "source": [
    "for i in l:\n",
    "    if i==4:\n",
    "        continue #skips 4\n",
    "    print(i)"
   ]
  },
  {
   "cell_type": "code",
   "execution_count": 5,
   "id": "e19f4983",
   "metadata": {},
   "outputs": [
    {
     "name": "stdout",
     "output_type": "stream",
     "text": [
      "1\n",
      "2\n",
      "3\n",
      "4 is present\n",
      "4\n",
      "5\n",
      "6\n",
      "4 is present\n",
      "4\n",
      "5\n",
      "6\n"
     ]
    }
   ],
   "source": [
    "for i in l:\n",
    "    if i==4:\n",
    "        print(\"4 is present\")\n",
    "        pass #stops at 4 and prints the statement and again prints 4,elements dont skip\n",
    "    print(i)"
   ]
  },
  {
   "cell_type": "markdown",
   "id": "ce67c80e",
   "metadata": {},
   "source": [
    "### WHILE"
   ]
  },
  {
   "cell_type": "code",
   "execution_count": 7,
   "id": "48024533",
   "metadata": {},
   "outputs": [
    {
     "name": "stdout",
     "output_type": "stream",
     "text": [
      "1\n",
      "2\n",
      "3\n",
      "4\n",
      "5\n",
      "6\n",
      "7\n",
      "8\n",
      "9\n",
      "10\n"
     ]
    }
   ],
   "source": [
    "n = 1\n",
    "while n<=10:\n",
    "    print(n)\n",
    "    n=n+1"
   ]
  },
  {
   "cell_type": "code",
   "execution_count": 8,
   "id": "0b48e793",
   "metadata": {},
   "outputs": [
    {
     "name": "stdout",
     "output_type": "stream",
     "text": [
      "1\n",
      "2\n"
     ]
    }
   ],
   "source": [
    "i=1\n",
    "while i<6:\n",
    "    if i==3:\n",
    "        break\n",
    "    print(i)\n",
    "    i+=1"
   ]
  },
  {
   "cell_type": "code",
   "execution_count": 10,
   "id": "c22a624b",
   "metadata": {},
   "outputs": [
    {
     "name": "stdout",
     "output_type": "stream",
     "text": [
      "30\n",
      "30 31 32 33 34 35 36 37 38 39 40 41 42 43 44 45 46 47 48 49 50 "
     ]
    }
   ],
   "source": [
    "n=int(input())\n",
    "while n<=50:\n",
    "    print(n,end=\" \")\n",
    "    n+=1"
   ]
  },
  {
   "cell_type": "code",
   "execution_count": 11,
   "id": "7bd24816",
   "metadata": {},
   "outputs": [
    {
     "name": "stdout",
     "output_type": "stream",
     "text": [
      "49\n",
      "49 50 "
     ]
    }
   ],
   "source": [
    "n=int(input())\n",
    "while n<=50:\n",
    "    print(n,end=\" \")\n",
    "    n+=1"
   ]
  },
  {
   "cell_type": "code",
   "execution_count": 1,
   "id": "7223b88a",
   "metadata": {},
   "outputs": [
    {
     "name": "stdout",
     "output_type": "stream",
     "text": [
      "4000\n",
      "2000\n",
      "take your money\n"
     ]
    }
   ],
   "source": [
    "n1=int(input())\n",
    "n=int(input())\n",
    "amount=n1-1000\n",
    "while True:\n",
    "    if amount>n:\n",
    "        print(\"take your money\")\n",
    "    else:\n",
    "        print(\"amount ecxeeds balance\")\n",
    "    break"
   ]
  },
  {
   "cell_type": "code",
   "execution_count": 4,
   "id": "31d89657",
   "metadata": {},
   "outputs": [
    {
     "name": "stdout",
     "output_type": "stream",
     "text": [
      "10000\n",
      "10000\n",
      "you have only 10000 as your balance\n"
     ]
    }
   ],
   "source": [
    "n1=int(input())\n",
    "n=int(input())\n",
    "amount=n1-1000\n",
    "while True:\n",
    "    if amount>n:\n",
    "        print(\"take your money\")\n",
    "    elif n1==n:\n",
    "        print(\"you have only\",n1,\"as your balance\")\n",
    "    else:\n",
    "        print(\"amount ecxeeds balance\")\n",
    "    break"
   ]
  },
  {
   "cell_type": "code",
   "execution_count": 5,
   "id": "04534bef",
   "metadata": {},
   "outputs": [
    {
     "name": "stdout",
     "output_type": "stream",
     "text": [
      "20000\n",
      "10000\n",
      "take your money\n"
     ]
    }
   ],
   "source": [
    "n1=int(input())\n",
    "n=int(input())\n",
    "amount=n1-1000\n",
    "while True:\n",
    "    if amount>n:\n",
    "        print(\"take your money\")\n",
    "    elif n1==n:\n",
    "        print(\"you have only\",n1,\"as your balance\")\n",
    "    else:\n",
    "        print(\"amount ecxeeds balance\")\n",
    "    break"
   ]
  },
  {
   "cell_type": "code",
   "execution_count": 7,
   "id": "bf34464a",
   "metadata": {},
   "outputs": [
    {
     "name": "stdout",
     "output_type": "stream",
     "text": [
      "20000\n",
      "30000\n",
      "amount ecxeeds balance\n"
     ]
    }
   ],
   "source": [
    "n1=int(input())\n",
    "n=int(input())\n",
    "amount=n1-1000\n",
    "while True:\n",
    "    if amount>n:\n",
    "        print(\"take your money\")\n",
    "    elif n1==n:\n",
    "        print(\"you have only\",n1,\"as your balance\")###\n",
    "    else:\n",
    "        print(\"amount ecxeeds balance\")\n",
    "    break"
   ]
  },
  {
   "cell_type": "markdown",
   "id": "13c412b1",
   "metadata": {},
   "source": [
    "### STRINGS"
   ]
  },
  {
   "cell_type": "code",
   "execution_count": 8,
   "id": "8fee4884",
   "metadata": {},
   "outputs": [
    {
     "data": {
      "text/plain": [
       "str"
      ]
     },
     "execution_count": 8,
     "metadata": {},
     "output_type": "execute_result"
    }
   ],
   "source": [
    "s=\" \"\n",
    "type(s)"
   ]
  },
  {
   "cell_type": "code",
   "execution_count": 9,
   "id": "b7ca601e",
   "metadata": {},
   "outputs": [
    {
     "data": {
      "text/plain": [
       "str"
      ]
     },
     "execution_count": 9,
     "metadata": {},
     "output_type": "execute_result"
    }
   ],
   "source": [
    "s=\"Python Programming 123@\"\n",
    "type(s)"
   ]
  },
  {
   "cell_type": "code",
   "execution_count": 10,
   "id": "06724834",
   "metadata": {},
   "outputs": [
    {
     "data": {
      "text/plain": [
       "'2'"
      ]
     },
     "execution_count": 10,
     "metadata": {},
     "output_type": "execute_result"
    }
   ],
   "source": [
    "s[5]\n",
    "s[10]\n",
    "s[8]\n",
    "s[-3] #negative indexing"
   ]
  },
  {
   "cell_type": "code",
   "execution_count": 13,
   "id": "04f9c84c",
   "metadata": {},
   "outputs": [
    {
     "data": {
      "text/plain": [
       "'2'"
      ]
     },
     "execution_count": 13,
     "metadata": {},
     "output_type": "execute_result"
    }
   ],
   "source": [
    "s[20] #poitive indexing"
   ]
  },
  {
   "cell_type": "code",
   "execution_count": 14,
   "id": "81d61198",
   "metadata": {},
   "outputs": [
    {
     "data": {
      "text/plain": [
       "'123'"
      ]
     },
     "execution_count": 14,
     "metadata": {},
     "output_type": "execute_result"
    }
   ],
   "source": [
    "s[19:22] #slicing"
   ]
  },
  {
   "cell_type": "code",
   "execution_count": 17,
   "id": "4f3e4c1f",
   "metadata": {},
   "outputs": [
    {
     "data": {
      "text/plain": [
       "'ig13'"
      ]
     },
     "execution_count": 17,
     "metadata": {},
     "output_type": "execute_result"
    }
   ],
   "source": [
    "s[15:22:2]"
   ]
  },
  {
   "cell_type": "code",
   "execution_count": 18,
   "id": "a055bbb1",
   "metadata": {},
   "outputs": [
    {
     "data": {
      "text/plain": [
       "'Ph oai 3'"
      ]
     },
     "execution_count": 18,
     "metadata": {},
     "output_type": "execute_result"
    }
   ],
   "source": [
    "s[0:24:3]"
   ]
  },
  {
   "cell_type": "code",
   "execution_count": 20,
   "id": "bdb61830",
   "metadata": {},
   "outputs": [
    {
     "data": {
      "text/plain": [
       "'Ph oai 3'"
      ]
     },
     "execution_count": 20,
     "metadata": {},
     "output_type": "execute_result"
    }
   ],
   "source": [
    "s[0::3]"
   ]
  },
  {
   "cell_type": "code",
   "execution_count": 21,
   "id": "74a56fda",
   "metadata": {},
   "outputs": [
    {
     "data": {
      "text/plain": [
       "'Ph oai 3'"
      ]
     },
     "execution_count": 21,
     "metadata": {},
     "output_type": "execute_result"
    }
   ],
   "source": [
    "s[::3]"
   ]
  },
  {
   "cell_type": "code",
   "execution_count": 22,
   "id": "4affdf26",
   "metadata": {},
   "outputs": [
    {
     "name": "stdout",
     "output_type": "stream",
     "text": [
      "Ph oai 3\n"
     ]
    }
   ],
   "source": [
    "print(s[::3])"
   ]
  },
  {
   "cell_type": "code",
   "execution_count": 23,
   "id": "53dceaee",
   "metadata": {},
   "outputs": [
    {
     "data": {
      "text/plain": [
       "' nmagr '"
      ]
     },
     "execution_count": 23,
     "metadata": {},
     "output_type": "execute_result"
    }
   ],
   "source": [
    "s[18:5:-2]"
   ]
  },
  {
   "cell_type": "code",
   "execution_count": 24,
   "id": "1b249511",
   "metadata": {},
   "outputs": [
    {
     "data": {
      "text/plain": [
       "'gnim'"
      ]
     },
     "execution_count": 24,
     "metadata": {},
     "output_type": "execute_result"
    }
   ],
   "source": [
    "s[-6:-10:-1]"
   ]
  },
  {
   "cell_type": "code",
   "execution_count": 25,
   "id": "f87ce19d",
   "metadata": {},
   "outputs": [
    {
     "data": {
      "text/plain": [
       "'@321 gnimmargorP nohtyP'"
      ]
     },
     "execution_count": 25,
     "metadata": {},
     "output_type": "execute_result"
    }
   ],
   "source": [
    "s[::-1]"
   ]
  },
  {
   "cell_type": "code",
   "execution_count": 26,
   "id": "36806425",
   "metadata": {},
   "outputs": [
    {
     "data": {
      "text/plain": [
       "'@2 nmagr otP'"
      ]
     },
     "execution_count": 26,
     "metadata": {},
     "output_type": "execute_result"
    }
   ],
   "source": [
    "s[::-2]"
   ]
  },
  {
   "cell_type": "code",
   "execution_count": 27,
   "id": "ad7e921b",
   "metadata": {},
   "outputs": [
    {
     "data": {
      "text/plain": [
       "'@1nmgPoy'"
      ]
     },
     "execution_count": 27,
     "metadata": {},
     "output_type": "execute_result"
    }
   ],
   "source": [
    "s[::-3]"
   ]
  },
  {
   "cell_type": "code",
   "execution_count": 28,
   "id": "2099819d",
   "metadata": {},
   "outputs": [
    {
     "data": {
      "text/plain": [
       "'r'"
      ]
     },
     "execution_count": 28,
     "metadata": {},
     "output_type": "execute_result"
    }
   ],
   "source": [
    "t=len(s)//2\n",
    "s[t]"
   ]
  },
  {
   "cell_type": "code",
   "execution_count": 30,
   "id": "0d6b1fbb",
   "metadata": {},
   "outputs": [
    {
     "data": {
      "text/plain": [
       "11"
      ]
     },
     "execution_count": 30,
     "metadata": {},
     "output_type": "execute_result"
    }
   ],
   "source": [
    "s[len(s)//2]"
   ]
  },
  {
   "cell_type": "code",
   "execution_count": 32,
   "id": "1d39a99f",
   "metadata": {},
   "outputs": [
    {
     "data": {
      "text/plain": [
       "2"
      ]
     },
     "execution_count": 32,
     "metadata": {},
     "output_type": "execute_result"
    }
   ],
   "source": [
    "s=\"hello\"\n",
    "(len(s)//2)"
   ]
  },
  {
   "cell_type": "code",
   "execution_count": 33,
   "id": "5198cf12",
   "metadata": {},
   "outputs": [
    {
     "data": {
      "text/plain": [
       "'l'"
      ]
     },
     "execution_count": 33,
     "metadata": {},
     "output_type": "execute_result"
    }
   ],
   "source": [
    "s[len(s)//2]"
   ]
  },
  {
   "cell_type": "code",
   "execution_count": 36,
   "id": "6b48212f",
   "metadata": {},
   "outputs": [
    {
     "name": "stdout",
     "output_type": "stream",
     "text": [
      "638171281739\n"
     ]
    }
   ],
   "source": [
    "hari=638171281739\n",
    "print(hari)"
   ]
  },
  {
   "cell_type": "code",
   "execution_count": 37,
   "id": "7f4c98b9",
   "metadata": {},
   "outputs": [
    {
     "name": "stdout",
     "output_type": "stream",
     "text": [
      "638171281759\n"
     ]
    }
   ],
   "source": [
    "hari=638171281739\n",
    "print(hari+20)"
   ]
  },
  {
   "cell_type": "code",
   "execution_count": null,
   "id": "13f4da3b",
   "metadata": {},
   "outputs": [],
   "source": []
  }
 ],
 "metadata": {
  "kernelspec": {
   "display_name": "Python 3",
   "language": "python",
   "name": "python3"
  },
  "language_info": {
   "codemirror_mode": {
    "name": "ipython",
    "version": 3
   },
   "file_extension": ".py",
   "mimetype": "text/x-python",
   "name": "python",
   "nbconvert_exporter": "python",
   "pygments_lexer": "ipython3",
   "version": "3.8.8"
  }
 },
 "nbformat": 4,
 "nbformat_minor": 5
}
