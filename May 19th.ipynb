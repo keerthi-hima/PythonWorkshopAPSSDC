{
 "cells": [
  {
   "cell_type": "markdown",
   "id": "7dadac67",
   "metadata": {},
   "source": [
    "# DATA TYPES"
   ]
  },
  {
   "cell_type": "markdown",
   "id": "e2c8d9f6",
   "metadata": {},
   "source": [
    "### 1.INT\n",
    "### 2.FLOAT\n",
    "### 3.STRING"
   ]
  },
  {
   "cell_type": "code",
   "execution_count": 1,
   "id": "6d6f734d",
   "metadata": {},
   "outputs": [
    {
     "data": {
      "text/plain": [
       "int"
      ]
     },
     "execution_count": 1,
     "metadata": {},
     "output_type": "execute_result"
    }
   ],
   "source": [
    "n1=15\n",
    "type(n1)"
   ]
  },
  {
   "cell_type": "code",
   "execution_count": 2,
   "id": "56a8062a",
   "metadata": {},
   "outputs": [
    {
     "data": {
      "text/plain": [
       "float"
      ]
     },
     "execution_count": 2,
     "metadata": {},
     "output_type": "execute_result"
    }
   ],
   "source": [
    "n2=12.32\n",
    "type(n2)"
   ]
  },
  {
   "cell_type": "code",
   "execution_count": 4,
   "id": "2f511c06",
   "metadata": {},
   "outputs": [
    {
     "data": {
      "text/plain": [
       "str"
      ]
     },
     "execution_count": 4,
     "metadata": {},
     "output_type": "execute_result"
    }
   ],
   "source": [
    "n3=\"katherine\"\n",
    "type(n3)"
   ]
  },
  {
   "cell_type": "code",
   "execution_count": 5,
   "id": "c974f32a",
   "metadata": {},
   "outputs": [
    {
     "name": "stdout",
     "output_type": "stream",
     "text": [
      "apssdc\n"
     ]
    },
    {
     "data": {
      "text/plain": [
       "str"
      ]
     },
     "execution_count": 5,
     "metadata": {},
     "output_type": "execute_result"
    }
   ],
   "source": [
    "k=\"apssdc\"\n",
    "print(k)\n",
    "type(k)"
   ]
  },
  {
   "cell_type": "code",
   "execution_count": 6,
   "id": "b563eabd",
   "metadata": {},
   "outputs": [
    {
     "data": {
      "text/plain": [
       "int"
      ]
     },
     "execution_count": 6,
     "metadata": {},
     "output_type": "execute_result"
    }
   ],
   "source": [
    "n=15\n",
    "m=30\n",
    "type(n)\n",
    "type(m)"
   ]
  },
  {
   "cell_type": "code",
   "execution_count": 8,
   "id": "03279254",
   "metadata": {},
   "outputs": [
    {
     "data": {
      "text/plain": [
       "str"
      ]
     },
     "execution_count": 8,
     "metadata": {},
     "output_type": "execute_result"
    }
   ],
   "source": [
    "m=\"keethu\"\n",
    "n=30\n",
    "type(n)\n",
    "type(m)"
   ]
  },
  {
   "cell_type": "code",
   "execution_count": 13,
   "id": "c18fccac",
   "metadata": {},
   "outputs": [
    {
     "name": "stdout",
     "output_type": "stream",
     "text": [
      "<class 'str'>\n"
     ]
    }
   ],
   "source": [
    "p=\"9\"\n",
    "print(type(p))"
   ]
  },
  {
   "cell_type": "code",
   "execution_count": 14,
   "id": "16ffa04d",
   "metadata": {},
   "outputs": [
    {
     "name": "stdout",
     "output_type": "stream",
     "text": [
      "1221\n"
     ]
    }
   ],
   "source": [
    "x=\"12\"\n",
    "y=\"21\"\n",
    "print(x+y) #concatenation"
   ]
  },
  {
   "cell_type": "code",
   "execution_count": 16,
   "id": "1482a7e6",
   "metadata": {},
   "outputs": [
    {
     "name": "stdout",
     "output_type": "stream",
     "text": [
      "vindu\n"
     ]
    }
   ],
   "source": [
    "v=\"vi\"\n",
    "s=\"ndu\"\n",
    "print(v+s)"
   ]
  },
  {
   "cell_type": "code",
   "execution_count": 18,
   "id": "a689ebfa",
   "metadata": {},
   "outputs": [
    {
     "name": "stdout",
     "output_type": "stream",
     "text": [
      "kevin\n"
     ]
    }
   ],
   "source": [
    "k=\"ke\"\n",
    "v=\"vin\"\n",
    "print(k+v)"
   ]
  },
  {
   "cell_type": "markdown",
   "id": "ead16f81",
   "metadata": {},
   "source": [
    "# INDENTATION"
   ]
  },
  {
   "cell_type": "markdown",
   "id": "49264b61",
   "metadata": {},
   "source": [
    "#### MAIN DIFFERENCE BETWEEN C AND PYTHON IS INDENTATION"
   ]
  },
  {
   "cell_type": "code",
   "execution_count": 22,
   "id": "7c1c46ee",
   "metadata": {},
   "outputs": [
    {
     "name": "stdout",
     "output_type": "stream",
     "text": [
      "n is greater than m\n"
     ]
    }
   ],
   "source": [
    "n,m=14,12\n",
    "if(n>m):\n",
    "    print(\"n is greater than m\")\n",
    "else:\n",
    "    print(\"wrong statement\")"
   ]
  },
  {
   "cell_type": "code",
   "execution_count": 23,
   "id": "9a0b2c15",
   "metadata": {},
   "outputs": [
    {
     "name": "stdout",
     "output_type": "stream",
     "text": [
      "wrong statement\n"
     ]
    }
   ],
   "source": [
    "n,m=12,14\n",
    "if(n>m):\n",
    "    print(\"n is greater than m\")\n",
    "else:\n",
    "    print(\"wrong statement\")"
   ]
  },
  {
   "cell_type": "code",
   "execution_count": 30,
   "id": "03d284e9",
   "metadata": {},
   "outputs": [
    {
     "ename": "IndentationError",
     "evalue": "expected an indented block (<ipython-input-30-cda95400f349>, line 3)",
     "output_type": "error",
     "traceback": [
      "\u001b[1;36m  File \u001b[1;32m\"<ipython-input-30-cda95400f349>\"\u001b[1;36m, line \u001b[1;32m3\u001b[0m\n\u001b[1;33m    print(\"n is greater than m\")\u001b[0m\n\u001b[1;37m    ^\u001b[0m\n\u001b[1;31mIndentationError\u001b[0m\u001b[1;31m:\u001b[0m expected an indented block\n"
     ]
    }
   ],
   "source": [
    "n,m=14,12\n",
    "if(n>m):\n",
    "print(\"n is greater than m\")"
   ]
  },
  {
   "cell_type": "code",
   "execution_count": 29,
   "id": "41f4cd77",
   "metadata": {},
   "outputs": [
    {
     "name": "stdout",
     "output_type": "stream",
     "text": [
      "n is greater than m\n"
     ]
    }
   ],
   "source": [
    "n,m=14,12\n",
    "if(n>m):\n",
    "    print(\"n is greater than m\")"
   ]
  },
  {
   "cell_type": "code",
   "execution_count": 33,
   "id": "8fe0383d",
   "metadata": {},
   "outputs": [],
   "source": [
    "n,m=14,12\n",
    "if(n<m):\n",
    "    print(\"n is greater than m\")"
   ]
  },
  {
   "cell_type": "code",
   "execution_count": 32,
   "id": "90cb18f2",
   "metadata": {},
   "outputs": [
    {
     "name": "stdout",
     "output_type": "stream",
     "text": [
      "n is greater than m\n"
     ]
    }
   ],
   "source": [
    "n,m=12,14\n",
    "if(n<m):\n",
    "    print(\"n is greater than m\")"
   ]
  },
  {
   "cell_type": "markdown",
   "id": "02bfc469",
   "metadata": {},
   "source": [
    "## READING INPUT DYNAMICALLY\n",
    "BY DEFAULT IT ASSIGNS STRING DATA TYPES-input()"
   ]
  },
  {
   "cell_type": "code",
   "execution_count": 35,
   "id": "a92e8847",
   "metadata": {},
   "outputs": [
    {
     "name": "stdout",
     "output_type": "stream",
     "text": [
      "keerthi\n",
      "\n",
      "<class 'str'>\n"
     ]
    }
   ],
   "source": [
    "x=input()\n",
    "print()\n",
    "print(type(x))"
   ]
  },
  {
   "cell_type": "code",
   "execution_count": 38,
   "id": "e5b8ff9a",
   "metadata": {},
   "outputs": [
    {
     "name": "stdout",
     "output_type": "stream",
     "text": [
      "<class 'int'>\n",
      "<class 'float'>\n"
     ]
    }
   ],
   "source": [
    "h=12\n",
    "print(type(h))\n",
    "g=float(h)\n",
    "print(type(g))"
   ]
  },
  {
   "cell_type": "code",
   "execution_count": 39,
   "id": "820eabb6",
   "metadata": {},
   "outputs": [
    {
     "name": "stdout",
     "output_type": "stream",
     "text": [
      "<class 'int'>\n",
      "<class 'str'>\n"
     ]
    }
   ],
   "source": [
    "h=12\n",
    "print(type(h))\n",
    "g=str(h)\n",
    "print(type(g))"
   ]
  },
  {
   "cell_type": "code",
   "execution_count": 40,
   "id": "c454c016",
   "metadata": {},
   "outputs": [
    {
     "name": "stdout",
     "output_type": "stream",
     "text": [
      "<class 'int'>\n",
      "<class 'float'>\n",
      "12\n",
      "12.0\n"
     ]
    }
   ],
   "source": [
    "h=12\n",
    "print(type(h))\n",
    "g=float(h)\n",
    "print(type(g))\n",
    "print(h)\n",
    "print(g)"
   ]
  },
  {
   "cell_type": "code",
   "execution_count": 46,
   "id": "9364019d",
   "metadata": {},
   "outputs": [
    {
     "name": "stdout",
     "output_type": "stream",
     "text": [
      "enter a value8\n",
      "8\n"
     ]
    },
    {
     "data": {
      "text/plain": [
       "int"
      ]
     },
     "execution_count": 46,
     "metadata": {},
     "output_type": "execute_result"
    }
   ],
   "source": [
    "n=int(input(\"enter a value\"))\n",
    "print(n)\n",
    "type(n)"
   ]
  },
  {
   "cell_type": "code",
   "execution_count": 47,
   "id": "db0c0d71",
   "metadata": {},
   "outputs": [
    {
     "name": "stdout",
     "output_type": "stream",
     "text": [
      "enter a value8\n",
      "8\n",
      "<class 'int'>\n"
     ]
    }
   ],
   "source": [
    "n=int(input(\"enter a value\"))\n",
    "print(n)\n",
    "print(type(n))"
   ]
  },
  {
   "cell_type": "markdown",
   "id": "45a7f724",
   "metadata": {},
   "source": [
    "# OPERATORS\n",
    "1.ARITHMETIC\n",
    "2.ASSIGNMENT\n",
    "3.COMPARISION\n",
    "4.LOGICAL\n",
    "5.IDENTITY\n",
    "6.MEMBERSHIP\n",
    "7.BITWISE"
   ]
  },
  {
   "cell_type": "code",
   "execution_count": 49,
   "id": "80e0e4c5",
   "metadata": {},
   "outputs": [
    {
     "name": "stdout",
     "output_type": "stream",
     "text": [
      "8\n",
      "2\n",
      "15\n",
      "1.6666666666666667\n",
      "2\n",
      "1\n",
      "125\n"
     ]
    }
   ],
   "source": [
    "a,b=5,3\n",
    "print(a+b)\n",
    "print(a-b)\n",
    "print(a*b)\n",
    "print(a/b)\n",
    "print(a%b)\n",
    "print(a//b) #floor value of a/b\n",
    "print(a**b)"
   ]
  },
  {
   "cell_type": "code",
   "execution_count": 50,
   "id": "0b84d68f",
   "metadata": {},
   "outputs": [
    {
     "name": "stdout",
     "output_type": "stream",
     "text": [
      "12\n",
      "13\n"
     ]
    }
   ],
   "source": [
    "a=12\n",
    "print(a)\n",
    "a+=1 #a=a+1\n",
    "print(a)"
   ]
  },
  {
   "cell_type": "code",
   "execution_count": 51,
   "id": "bbcb0cb7",
   "metadata": {},
   "outputs": [
    {
     "name": "stdout",
     "output_type": "stream",
     "text": [
      "12\n",
      "11\n"
     ]
    }
   ],
   "source": [
    "a=12\n",
    "print(a)\n",
    "a-=1 #a=a-1\n",
    "print(a)"
   ]
  },
  {
   "cell_type": "code",
   "execution_count": 52,
   "id": "5786f3a3",
   "metadata": {},
   "outputs": [
    {
     "name": "stdout",
     "output_type": "stream",
     "text": [
      "12\n",
      "12\n"
     ]
    }
   ],
   "source": [
    "a=12\n",
    "print(a)\n",
    "a*=1 #a=a*1\n",
    "print(a)"
   ]
  },
  {
   "cell_type": "code",
   "execution_count": 57,
   "id": "cc75677a",
   "metadata": {},
   "outputs": [
    {
     "name": "stdout",
     "output_type": "stream",
     "text": [
      "10 20\n",
      "False\n",
      "False\n",
      "True\n",
      "False\n",
      "True\n",
      "True\n"
     ]
    }
   ],
   "source": [
    "n,m=10,20\n",
    "print(n,m)\n",
    "print(n==m)\n",
    "print(n>m)\n",
    "print(n<m)\n",
    "print(n>=m)\n",
    "print(n<=m)\n",
    "print(n!=m) #boolean outputs"
   ]
  },
  {
   "cell_type": "code",
   "execution_count": 58,
   "id": "fdac694a",
   "metadata": {},
   "outputs": [
    {
     "name": "stdout",
     "output_type": "stream",
     "text": [
      "True\n"
     ]
    }
   ],
   "source": [
    "a=6\n",
    "print(a<10 and a>5)"
   ]
  },
  {
   "cell_type": "code",
   "execution_count": 60,
   "id": "f32da2c3",
   "metadata": {},
   "outputs": [
    {
     "name": "stdout",
     "output_type": "stream",
     "text": [
      "True\n"
     ]
    }
   ],
   "source": [
    "a=6\n",
    "print(a<10 or a<5)"
   ]
  },
  {
   "cell_type": "code",
   "execution_count": 61,
   "id": "cc8d718b",
   "metadata": {},
   "outputs": [
    {
     "name": "stdout",
     "output_type": "stream",
     "text": [
      "False\n"
     ]
    }
   ],
   "source": [
    "k=a<10 or a<5\n",
    "print(not(k))"
   ]
  },
  {
   "cell_type": "code",
   "execution_count": 65,
   "id": "99da51d3",
   "metadata": {},
   "outputs": [
    {
     "name": "stdout",
     "output_type": "stream",
     "text": [
      "False\n",
      "True\n"
     ]
    }
   ],
   "source": [
    "x,y=10,20\n",
    "print(x is y)\n",
    "print(x is not y)"
   ]
  },
  {
   "cell_type": "code",
   "execution_count": 66,
   "id": "5d39d616",
   "metadata": {},
   "outputs": [
    {
     "name": "stdout",
     "output_type": "stream",
     "text": [
      "True\n",
      "False\n"
     ]
    }
   ],
   "source": [
    "x,y=10,10\n",
    "print(x is y)\n",
    "print(x is not y)"
   ]
  },
  {
   "cell_type": "code",
   "execution_count": 70,
   "id": "9fe90e11",
   "metadata": {},
   "outputs": [
    {
     "name": "stdout",
     "output_type": "stream",
     "text": [
      "False\n",
      "True\n",
      "True\n",
      "False\n"
     ]
    }
   ],
   "source": [
    "bobby=[\"keerthi\",\"vidya\",\"sindu\"]\n",
    "print('bobby'in bobby)\n",
    "print('bobby'not in bobby)\n",
    "print('keerthi'in bobby)\n",
    "print('keerthi'not in bobby)"
   ]
  },
  {
   "cell_type": "code",
   "execution_count": 73,
   "id": "d8dc0f47",
   "metadata": {},
   "outputs": [
    {
     "data": {
      "text/plain": [
       "1"
      ]
     },
     "execution_count": 73,
     "metadata": {},
     "output_type": "execute_result"
    }
   ],
   "source": [
    "5&3 #and"
   ]
  },
  {
   "cell_type": "code",
   "execution_count": 75,
   "id": "754508f4",
   "metadata": {},
   "outputs": [
    {
     "data": {
      "text/plain": [
       "7"
      ]
     },
     "execution_count": 75,
     "metadata": {},
     "output_type": "execute_result"
    }
   ],
   "source": [
    "5|3 #or"
   ]
  },
  {
   "cell_type": "code",
   "execution_count": 76,
   "id": "578f422f",
   "metadata": {},
   "outputs": [
    {
     "data": {
      "text/plain": [
       "6"
      ]
     },
     "execution_count": 76,
     "metadata": {},
     "output_type": "execute_result"
    }
   ],
   "source": [
    "5^3 #exor"
   ]
  },
  {
   "cell_type": "code",
   "execution_count": 78,
   "id": "d58e559d",
   "metadata": {},
   "outputs": [
    {
     "data": {
      "text/plain": [
       "0"
      ]
     },
     "execution_count": 78,
     "metadata": {},
     "output_type": "execute_result"
    }
   ],
   "source": [
    "5>>3 #leftshift"
   ]
  },
  {
   "cell_type": "code",
   "execution_count": 79,
   "id": "c3338a83",
   "metadata": {},
   "outputs": [
    {
     "data": {
      "text/plain": [
       "40"
      ]
     },
     "execution_count": 79,
     "metadata": {},
     "output_type": "execute_result"
    }
   ],
   "source": [
    "5<<3 #rightshift"
   ]
  },
  {
   "cell_type": "code",
   "execution_count": null,
   "id": "f16747fd",
   "metadata": {},
   "outputs": [],
   "source": []
  }
 ],
 "metadata": {
  "kernelspec": {
   "display_name": "Python 3",
   "language": "python",
   "name": "python3"
  },
  "language_info": {
   "codemirror_mode": {
    "name": "ipython",
    "version": 3
   },
   "file_extension": ".py",
   "mimetype": "text/x-python",
   "name": "python",
   "nbconvert_exporter": "python",
   "pygments_lexer": "ipython3",
   "version": "3.8.8"
  }
 },
 "nbformat": 4,
 "nbformat_minor": 5
}
